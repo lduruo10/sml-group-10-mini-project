{
 "cells": [
  {
   "cell_type": "markdown",
   "id": "a84149b8-e28e-4b2f-9144-ac42350e3598",
   "metadata": {},
   "source": [
    "# Predicting the Lead via k-nn"
   ]
  },
  {
   "cell_type": "markdown",
   "id": "0b65db5f-816c-442d-84e8-c23675945d36",
   "metadata": {},
   "source": [
    "## Misclassification benchmark results with 10 fold cross-validation\n",
    "* 0.17871287128712868 with k=84, dropping the 0 values and using only 2 composite features\n",
    "* 0.19824495892457056 with k=64, using only 2 composite features (without dropping the 0 values)\n",
    "* 0.19844690351388078 with k=19, using Number of female actors, Number of male actors, Age Lead, Age Co-Lead\n",
    "* 0.2004562220927975 with k=16, using 2 composite + Number of female actors, Number of male actors, Age Lead, Age Co-Lead\n",
    "* 0.204319549602019 with k=9, using all features + 2 composite features\n",
    "* 0.204319549602019 with k=9, using all features\n"
   ]
  },
  {
   "cell_type": "code",
   "execution_count": 1,
   "id": "302d6191-8573-4256-8561-b488d8b9f841",
   "metadata": {},
   "outputs": [],
   "source": [
    "import pandas as pd\n",
    "import numpy as np\n",
    "import matplotlib.pyplot as plt\n",
    "\n",
    "import sklearn.model_selection as skl_ms\n",
    "import sklearn.neighbors as skl_nb"
   ]
  },
  {
   "cell_type": "code",
   "execution_count": 52,
   "id": "fd2a380a-d064-486e-a749-2c35efbc2b81",
   "metadata": {},
   "outputs": [],
   "source": [
    "# Load train dataset\n",
    "url = 'data/train.csv'\n",
    "data = pd.read_csv(url)"
   ]
  },
  {
   "cell_type": "markdown",
   "id": "d3b21cdc-61e9-46cd-a74d-cfc722a4ca2b",
   "metadata": {
    "tags": []
   },
   "source": [
    "### About noise in the data\n",
    "\n",
    "* Entries where 'Number words female' is 0, show invariably to be led by Female.\n",
    "* Entries where 'Number words male' is 0, show invariably to be led by Male.\n",
    "\n",
    "From the discussion thread, the teaching assistant says:\n",
    "\n",
    "_\"it is possible to use this information as a valuable feature for the model in this particular case\"_\n",
    "\n",
    "This hints in using it as a special rule for prediction. However, for the moment, while we tune the models, I would suggest dropping these values as they add noise"
   ]
  },
  {
   "cell_type": "code",
   "execution_count": 53,
   "id": "41c34c83-3a85-4c4f-84f1-2df47c500166",
   "metadata": {},
   "outputs": [],
   "source": [
    "# Get names of indexes for which the number of words of female or male is 0\n",
    "dropIndex = data[ (data['Number words female'] == 0) | (data['Number words male'] == 0) ].index\n",
    "\n",
    "# Delete the rows from the dataset\n",
    "data.drop(dropIndex , inplace=True)"
   ]
  },
  {
   "cell_type": "markdown",
   "id": "d3f78538-6a32-42fb-a466-c6d0e40b7cef",
   "metadata": {},
   "source": [
    "### Add combined features to the dataset\n",
    "`nV1`: Gender actor relation: 'Number of female actors'/('Number of female actors' + 'Number of male actors').\n",
    "\n",
    "`nV2`: Age relation: 'Age Co-Lead' / 'Age Lead'."
   ]
  },
  {
   "cell_type": "code",
   "execution_count": 54,
   "id": "bc25628a-0174-4f3d-8377-672761a4b933",
   "metadata": {},
   "outputs": [],
   "source": [
    "# Add combined features\n",
    "data['nV1'] = data['Number of female actors']/(data['Number of female actors']+data['Number of male actors'])\n",
    "data['nV2'] = data['Age Co-Lead']/data['Age Lead']"
   ]
  },
  {
   "cell_type": "markdown",
   "id": "92597862-0a13-4508-a427-5a41512829ea",
   "metadata": {},
   "source": [
    "### Checking the info"
   ]
  },
  {
   "cell_type": "code",
   "execution_count": null,
   "id": "9b988018-7166-46cc-a8b9-de1615ede2c5",
   "metadata": {},
   "outputs": [],
   "source": [
    "data.head()"
   ]
  },
  {
   "cell_type": "code",
   "execution_count": 25,
   "id": "279c5fde-bfc9-4b08-bb6d-1266e7382db9",
   "metadata": {},
   "outputs": [
    {
     "data": {
      "text/html": [
       "<div>\n",
       "<style scoped>\n",
       "    .dataframe tbody tr th:only-of-type {\n",
       "        vertical-align: middle;\n",
       "    }\n",
       "\n",
       "    .dataframe tbody tr th {\n",
       "        vertical-align: top;\n",
       "    }\n",
       "\n",
       "    .dataframe thead th {\n",
       "        text-align: right;\n",
       "    }\n",
       "</style>\n",
       "<table border=\"1\" class=\"dataframe\">\n",
       "  <thead>\n",
       "    <tr style=\"text-align: right;\">\n",
       "      <th></th>\n",
       "      <th>Number words female</th>\n",
       "      <th>Total words</th>\n",
       "      <th>Number of words lead</th>\n",
       "      <th>Difference in words lead and co-lead</th>\n",
       "      <th>Number of male actors</th>\n",
       "      <th>Year</th>\n",
       "      <th>Number of female actors</th>\n",
       "      <th>Number words male</th>\n",
       "      <th>Gross</th>\n",
       "      <th>Mean Age Male</th>\n",
       "      <th>Mean Age Female</th>\n",
       "      <th>Age Lead</th>\n",
       "      <th>Age Co-Lead</th>\n",
       "      <th>nV1</th>\n",
       "      <th>nV2</th>\n",
       "    </tr>\n",
       "  </thead>\n",
       "  <tbody>\n",
       "    <tr>\n",
       "      <th>count</th>\n",
       "      <td>1013.000000</td>\n",
       "      <td>1013.000000</td>\n",
       "      <td>1013.000000</td>\n",
       "      <td>1013.000000</td>\n",
       "      <td>1013.000000</td>\n",
       "      <td>1013.000000</td>\n",
       "      <td>1013.000000</td>\n",
       "      <td>1013.000000</td>\n",
       "      <td>1013.000000</td>\n",
       "      <td>1013.000000</td>\n",
       "      <td>1013.000000</td>\n",
       "      <td>1013.000000</td>\n",
       "      <td>1013.000000</td>\n",
       "      <td>1013.000000</td>\n",
       "      <td>1013.000000</td>\n",
       "    </tr>\n",
       "    <tr>\n",
       "      <th>mean</th>\n",
       "      <td>2375.824284</td>\n",
       "      <td>11147.630800</td>\n",
       "      <td>4156.122409</td>\n",
       "      <td>2567.855874</td>\n",
       "      <td>7.818361</td>\n",
       "      <td>1999.842053</td>\n",
       "      <td>3.563672</td>\n",
       "      <td>4615.684107</td>\n",
       "      <td>109.979269</td>\n",
       "      <td>42.256765</td>\n",
       "      <td>35.972203</td>\n",
       "      <td>38.777887</td>\n",
       "      <td>35.390918</td>\n",
       "      <td>0.324534</td>\n",
       "      <td>0.989888</td>\n",
       "    </tr>\n",
       "    <tr>\n",
       "      <th>std</th>\n",
       "      <td>2150.615952</td>\n",
       "      <td>6822.072347</td>\n",
       "      <td>2988.035028</td>\n",
       "      <td>2511.340011</td>\n",
       "      <td>3.880194</td>\n",
       "      <td>10.425850</td>\n",
       "      <td>2.080196</td>\n",
       "      <td>3429.487030</td>\n",
       "      <td>151.832276</td>\n",
       "      <td>7.766994</td>\n",
       "      <td>8.934847</td>\n",
       "      <td>12.302472</td>\n",
       "      <td>12.038279</td>\n",
       "      <td>0.156467</td>\n",
       "      <td>0.462870</td>\n",
       "    </tr>\n",
       "    <tr>\n",
       "      <th>min</th>\n",
       "      <td>102.000000</td>\n",
       "      <td>1351.000000</td>\n",
       "      <td>318.000000</td>\n",
       "      <td>1.000000</td>\n",
       "      <td>1.000000</td>\n",
       "      <td>1939.000000</td>\n",
       "      <td>1.000000</td>\n",
       "      <td>113.000000</td>\n",
       "      <td>0.000000</td>\n",
       "      <td>19.000000</td>\n",
       "      <td>13.000000</td>\n",
       "      <td>11.000000</td>\n",
       "      <td>7.000000</td>\n",
       "      <td>0.052632</td>\n",
       "      <td>0.200000</td>\n",
       "    </tr>\n",
       "    <tr>\n",
       "      <th>25%</th>\n",
       "      <td>965.000000</td>\n",
       "      <td>6581.000000</td>\n",
       "      <td>2111.000000</td>\n",
       "      <td>869.000000</td>\n",
       "      <td>5.000000</td>\n",
       "      <td>1994.000000</td>\n",
       "      <td>2.000000</td>\n",
       "      <td>2188.000000</td>\n",
       "      <td>22.000000</td>\n",
       "      <td>37.285714</td>\n",
       "      <td>29.500000</td>\n",
       "      <td>30.000000</td>\n",
       "      <td>28.000000</td>\n",
       "      <td>0.200000</td>\n",
       "      <td>0.733333</td>\n",
       "    </tr>\n",
       "    <tr>\n",
       "      <th>50%</th>\n",
       "      <td>1730.000000</td>\n",
       "      <td>9351.000000</td>\n",
       "      <td>3398.000000</td>\n",
       "      <td>1850.000000</td>\n",
       "      <td>7.000000</td>\n",
       "      <td>2000.000000</td>\n",
       "      <td>3.000000</td>\n",
       "      <td>3882.000000</td>\n",
       "      <td>59.000000</td>\n",
       "      <td>42.500000</td>\n",
       "      <td>35.000000</td>\n",
       "      <td>38.000000</td>\n",
       "      <td>34.000000</td>\n",
       "      <td>0.304348</td>\n",
       "      <td>0.900000</td>\n",
       "    </tr>\n",
       "    <tr>\n",
       "      <th>75%</th>\n",
       "      <td>3073.000000</td>\n",
       "      <td>14205.000000</td>\n",
       "      <td>5292.000000</td>\n",
       "      <td>3436.000000</td>\n",
       "      <td>10.000000</td>\n",
       "      <td>2009.000000</td>\n",
       "      <td>5.000000</td>\n",
       "      <td>5930.000000</td>\n",
       "      <td>140.000000</td>\n",
       "      <td>47.260870</td>\n",
       "      <td>41.500000</td>\n",
       "      <td>46.000000</td>\n",
       "      <td>41.000000</td>\n",
       "      <td>0.428571</td>\n",
       "      <td>1.111111</td>\n",
       "    </tr>\n",
       "    <tr>\n",
       "      <th>max</th>\n",
       "      <td>17658.000000</td>\n",
       "      <td>67548.000000</td>\n",
       "      <td>28102.000000</td>\n",
       "      <td>25822.000000</td>\n",
       "      <td>29.000000</td>\n",
       "      <td>2015.000000</td>\n",
       "      <td>16.000000</td>\n",
       "      <td>31146.000000</td>\n",
       "      <td>1798.000000</td>\n",
       "      <td>71.000000</td>\n",
       "      <td>81.333333</td>\n",
       "      <td>81.000000</td>\n",
       "      <td>85.000000</td>\n",
       "      <td>0.900000</td>\n",
       "      <td>4.583333</td>\n",
       "    </tr>\n",
       "  </tbody>\n",
       "</table>\n",
       "</div>"
      ],
      "text/plain": [
       "       Number words female   Total words  Number of words lead  \\\n",
       "count          1013.000000   1013.000000           1013.000000   \n",
       "mean           2375.824284  11147.630800           4156.122409   \n",
       "std            2150.615952   6822.072347           2988.035028   \n",
       "min             102.000000   1351.000000            318.000000   \n",
       "25%             965.000000   6581.000000           2111.000000   \n",
       "50%            1730.000000   9351.000000           3398.000000   \n",
       "75%            3073.000000  14205.000000           5292.000000   \n",
       "max           17658.000000  67548.000000          28102.000000   \n",
       "\n",
       "       Difference in words lead and co-lead  Number of male actors  \\\n",
       "count                           1013.000000            1013.000000   \n",
       "mean                            2567.855874               7.818361   \n",
       "std                             2511.340011               3.880194   \n",
       "min                                1.000000               1.000000   \n",
       "25%                              869.000000               5.000000   \n",
       "50%                             1850.000000               7.000000   \n",
       "75%                             3436.000000              10.000000   \n",
       "max                            25822.000000              29.000000   \n",
       "\n",
       "              Year  Number of female actors  Number words male        Gross  \\\n",
       "count  1013.000000              1013.000000        1013.000000  1013.000000   \n",
       "mean   1999.842053                 3.563672        4615.684107   109.979269   \n",
       "std      10.425850                 2.080196        3429.487030   151.832276   \n",
       "min    1939.000000                 1.000000         113.000000     0.000000   \n",
       "25%    1994.000000                 2.000000        2188.000000    22.000000   \n",
       "50%    2000.000000                 3.000000        3882.000000    59.000000   \n",
       "75%    2009.000000                 5.000000        5930.000000   140.000000   \n",
       "max    2015.000000                16.000000       31146.000000  1798.000000   \n",
       "\n",
       "       Mean Age Male  Mean Age Female     Age Lead  Age Co-Lead          nV1  \\\n",
       "count    1013.000000      1013.000000  1013.000000  1013.000000  1013.000000   \n",
       "mean       42.256765        35.972203    38.777887    35.390918     0.324534   \n",
       "std         7.766994         8.934847    12.302472    12.038279     0.156467   \n",
       "min        19.000000        13.000000    11.000000     7.000000     0.052632   \n",
       "25%        37.285714        29.500000    30.000000    28.000000     0.200000   \n",
       "50%        42.500000        35.000000    38.000000    34.000000     0.304348   \n",
       "75%        47.260870        41.500000    46.000000    41.000000     0.428571   \n",
       "max        71.000000        81.333333    81.000000    85.000000     0.900000   \n",
       "\n",
       "               nV2  \n",
       "count  1013.000000  \n",
       "mean      0.989888  \n",
       "std       0.462870  \n",
       "min       0.200000  \n",
       "25%       0.733333  \n",
       "50%       0.900000  \n",
       "75%       1.111111  \n",
       "max       4.583333  "
      ]
     },
     "execution_count": 25,
     "metadata": {},
     "output_type": "execute_result"
    }
   ],
   "source": [
    "data.describe()"
   ]
  },
  {
   "cell_type": "markdown",
   "id": "a2bcca65-2d2b-4bf3-9f7a-769465fffb30",
   "metadata": {
    "tags": []
   },
   "source": [
    "### 10-fold cross-validation\n",
    "Perform 10-fold cross-validation by first randomly permuting the data set, divide the data set into 10 equally sized parts and loop through them by taking one part as validation set and the rest as training set each time. Reviewing wich $k$ gives the best result"
   ]
  },
  {
   "cell_type": "code",
   "execution_count": 55,
   "id": "44bf836d-bd70-4271-85e0-f58326242f3a",
   "metadata": {},
   "outputs": [],
   "source": [
    "#X = data[['Number words female', 'Total words', 'Number of words lead', 'Difference in words lead and co-lead', \\\n",
    "#         'Number of male actors', 'Year', 'Number of female actors', 'Number words male', 'Gross', 'Mean Age Male', \\\n",
    "#         'Mean Age Female', 'Age Lead', 'Age Co-Lead', 'nV1', 'nV2']]\n",
    "#X = data[['nV1', 'nV2']]\n",
    "#X = data[['Number of female actors', 'Number of male actors', 'Age Lead', 'Age Co-Lead']]\n",
    "X = data[['nV1', 'nV2', 'Number of female actors', 'Number of male actors', 'Age Lead', 'Age Co-Lead']]\n",
    "y = data['Lead']\n",
    "\n",
    "X_train, X_val, y_train, y_val = skl_ms.train_test_split(X, y, test_size=0.3, random_state=1)"
   ]
  },
  {
   "cell_type": "code",
   "execution_count": 56,
   "id": "e1122dbf-1ae2-447f-9ed3-7bbcf5168e73",
   "metadata": {
    "tags": []
   },
   "outputs": [
    {
     "data": {
      "image/png": "[encoded data removed]",
      "text/plain": [
       "<Figure size 432x288 with 1 Axes>"
      ]
     },
     "metadata": {
      "needs_background": "light"
     },
     "output_type": "display_data"
    }
   ],
   "source": [
    "# Using Scikit learn KFold\n",
    "n_fold = 10\n",
    "k_range = 200\n",
    "\n",
    "cv = skl_ms.KFold(n_splits=n_fold, random_state=2, shuffle=True)\n",
    "K = np.arange(1,k_range)\n",
    "misclassification = np.zeros(len(K))\n",
    "for train_index, val_index in cv.split(X):\n",
    "    X_train, X_val = X.iloc[train_index], X.iloc[val_index]\n",
    "    y_train, y_val = y.iloc[train_index], y.iloc[val_index]\n",
    "    \n",
    "    for j, k in enumerate(K):\n",
    "        model = skl_nb.KNeighborsClassifier(n_neighbors=k)\n",
    "        model.fit(X_train, y_train)\n",
    "        prediction = model.predict(X_val)\n",
    "        misclassification[j] += np.mean(prediction != y_val)\n",
    "\n",
    "misclassification /= n_fold\n",
    "\n",
    "# Plotting the result (takes time, so run when there are relevant changes)\n",
    "plt.plot(K, misclassification)\n",
    "plt.title('cross validation error for kNN')\n",
    "plt.xlabel('k')\n",
    "plt.ylabel('validation error')\n",
    "plt.show()"
   ]
  },
  {
   "cell_type": "code",
   "execution_count": 57,
   "id": "04f98739-6c3f-4a6f-b961-9b3a40c7eaa0",
   "metadata": {},
   "outputs": [
    {
     "data": {
      "text/plain": [
       "array([0.23392545, 0.21028926, 0.21914191, 0.21425937, 0.21123083,\n",
       "       0.20535818, 0.20337798, 0.20139779, 0.20531936, 0.20932829,\n",
       "       0.20931858, 0.20143661, 0.20045622, 0.20440691, 0.2033974 ,\n",
       "       0.20144632, 0.2053873 , 0.21031838, 0.21030868, 0.20737721])"
      ]
     },
     "execution_count": 57,
     "metadata": {},
     "output_type": "execute_result"
    }
   ],
   "source": [
    "misclassification[5:25]"
   ]
  },
  {
   "cell_type": "code",
   "execution_count": 58,
   "id": "597edd35-9f75-4c09-a99a-e0268a539f9e",
   "metadata": {},
   "outputs": [
    {
     "data": {
      "text/plain": [
       "0.2004562220927975"
      ]
     },
     "execution_count": 58,
     "metadata": {},
     "output_type": "execute_result"
    }
   ],
   "source": [
    "min(misclassification[5:25])"
   ]
  },
  {
   "cell_type": "code",
   "execution_count": 61,
   "id": "c0fb2a01-1aea-4760-bebf-193ebeb538e5",
   "metadata": {},
   "outputs": [
    {
     "data": {
      "text/plain": [
       "0.2004562220927975"
      ]
     },
     "execution_count": 61,
     "metadata": {},
     "output_type": "execute_result"
    }
   ],
   "source": [
    "misclassification[17]"
   ]
  },
  {
   "cell_type": "code",
   "execution_count": null,
   "id": "f7842d0a-970e-44a3-8228-804fdc10bcea",
   "metadata": {},
   "outputs": [],
   "source": []
  }
 ],
 "metadata": {
  "kernelspec": {
   "display_name": "Python 3 (ipykernel)",
   "language": "python",
   "name": "python3"
  },
  "language_info": {
   "codemirror_mode": {
    "name": "ipython",
    "version": 3
   },
   "file_extension": ".py",
   "mimetype": "text/x-python",
   "name": "python",
   "nbconvert_exporter": "python",
   "pygments_lexer": "ipython3",
   "version": "3.8.12"
  }
 },
 "nbformat": 4,
 "nbformat_minor": 5
}
