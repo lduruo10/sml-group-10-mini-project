{
 "cells": [
  {
   "cell_type": "markdown",
   "id": "3318f384-995a-4dab-89bd-1653baffcbda",
   "metadata": {},
   "source": [
    "# Gender Analysis\n",
    "Include information and graphs that help answering the following questions\n",
    "* Do men or women dominate speaking roles in Hollywood movies?\n",
    "* Has gender balance in speaking roles changed over time?\n",
    "* Do films in which men do more speaking make a lot more money than films in which women speak more?"
   ]
  },
  {
   "cell_type": "markdown",
   "id": "fa50f7a9-35db-4df6-bc73-e06e58f2fbaf",
   "metadata": {},
   "source": [
    "## Some graphs to include\n",
    "Plot the following by year\n",
    "* General proportion of male lead.\n",
    "* Proportion of words spoken.\n",
    "* Lead age average by gender\n",
    "* XXWords per non-lead person on average depending on gender (the same proportion stands as with the lead?)\n",
    "* Gross vs gender speaking percentage: gross on X, male word % on y. .\n",
    "To-do:\n",
    "* Show imbalance in terms of number of actors per gender. Even in female-led movies, there are more male actors on average."
   ]
  },
  {
   "cell_type": "code",
   "execution_count": 26,
   "id": "5ff586af-7e4b-4fe2-94f4-bf480bebec2e",
   "metadata": {
    "execution": {
     "iopub.execute_input": "2021-12-01T15:07:50.193384Z",
     "iopub.status.busy": "2021-12-01T15:07:50.192149Z",
     "iopub.status.idle": "2021-12-01T15:07:50.202061Z",
     "shell.execute_reply": "2021-12-01T15:07:50.199471Z",
     "shell.execute_reply.started": "2021-12-01T15:07:50.193322Z"
    }
   },
   "outputs": [],
   "source": [
    "import pandas as pd\n",
    "import numpy as np\n",
    "import seaborn as sns\n",
    "from  matplotlib.ticker import PercentFormatter\n",
    "sns.set_theme(style=\"darkgrid\")"
   ]
  },
  {
   "cell_type": "code",
   "execution_count": 68,
   "id": "f5142a1d-8783-4ea8-be5b-f5af68cf7ba7",
   "metadata": {
    "execution": {
     "iopub.execute_input": "2021-12-01T20:43:09.627988Z",
     "iopub.status.busy": "2021-12-01T20:43:09.627005Z",
     "iopub.status.idle": "2021-12-01T20:43:09.664773Z",
     "shell.execute_reply": "2021-12-01T20:43:09.663974Z",
     "shell.execute_reply.started": "2021-12-01T20:43:09.627923Z"
    },
    "tags": []
   },
   "outputs": [],
   "source": [
    "# Load the dataset\n",
    "url = 'data/train.csv'\n",
    "data = pd.read_csv(url)"
   ]
  },
  {
   "cell_type": "code",
   "execution_count": 69,
   "id": "d5375902-69fa-4974-8f1b-46201ea444d0",
   "metadata": {
    "execution": {
     "iopub.execute_input": "2021-12-01T20:43:09.971157Z",
     "iopub.status.busy": "2021-12-01T20:43:09.970625Z",
     "iopub.status.idle": "2021-12-01T20:43:09.984318Z",
     "shell.execute_reply": "2021-12-01T20:43:09.983155Z",
     "shell.execute_reply.started": "2021-12-01T20:43:09.971102Z"
    },
    "tags": []
   },
   "outputs": [],
   "source": [
    "# Dropping 0-word entries\n",
    "\n",
    "# Get indexes for which the number of words of female or male is 0\n",
    "dropIndex = data[ (data['Number words female'] == 0) | (data['Number words male'] == 0) ].index\n",
    "\n",
    "# Delete the rows from the dataset\n",
    "data.drop(dropIndex , inplace=True)\n",
    "data['Number words co-lead'] = data['Number of words lead'] - data['Difference in words lead and co-lead']"
   ]
  },
  {
   "cell_type": "code",
   "execution_count": 70,
   "id": "edf2edb9-bd19-4d27-b36b-e67c850a0995",
   "metadata": {
    "execution": {
     "iopub.execute_input": "2021-12-01T20:43:10.335360Z",
     "iopub.status.busy": "2021-12-01T20:43:10.334997Z",
     "iopub.status.idle": "2021-12-01T20:43:10.353496Z",
     "shell.execute_reply": "2021-12-01T20:43:10.352247Z",
     "shell.execute_reply.started": "2021-12-01T20:43:10.335327Z"
    },
    "tags": []
   },
   "outputs": [],
   "source": [
    "# Index by year for easier management of data\n",
    "data.reset_index(inplace=True)\n",
    "data.set_index('Year', inplace=True) \n",
    "data.sort_index(ascending=True, inplace=True);\n",
    "\n",
    "# Select years to focus on (start in 1981, before there is little data)\n",
    "years = np.array(data.index.unique())\n",
    "years = years[years > 1980]\n",
    "\n",
    "years_dict = {'Year': years} # create dict of years for feeding a pandas dataframe\n",
    "analysis_df = pd.DataFrame(data=years_dict) # create a dataframe with a first column 'Year'\n",
    "analysis_df.set_index('Year');"
   ]
  },
  {
   "cell_type": "code",
   "execution_count": 73,
   "id": "c0045205-17e6-4632-a00e-f9d046bb3a60",
   "metadata": {
    "execution": {
     "iopub.execute_input": "2021-12-01T20:44:18.462370Z",
     "iopub.status.busy": "2021-12-01T20:44:18.461218Z",
     "iopub.status.idle": "2021-12-01T20:44:18.693869Z",
     "shell.execute_reply": "2021-12-01T20:44:18.693015Z",
     "shell.execute_reply.started": "2021-12-01T20:44:18.462301Z"
    },
    "tags": []
   },
   "outputs": [],
   "source": [
    "# Populate analysis_df with relevant stats, consolidated by year\n",
    "\n",
    "m_lead_p_year = []\n",
    "f_lead_p_year = []\n",
    "m_words_p_year = []\n",
    "f_words_p_year = []\n",
    "f_age_mean = []\n",
    "m_age_mean = []\n",
    "f_lead_age_mean = []\n",
    "m_lead_age_mean = []\n",
    "m_actors_p = []\n",
    "f_actors_p = []\n",
    "\n",
    "\n",
    "for year in years:\n",
    "    \n",
    "    year_df = data.loc[[year]] # Create a DF with the year (making sure it comes as a matrix)\n",
    "    \n",
    "    # % of male lead actors\n",
    "    num_movies = len(year_df)\n",
    "    m_lead_p_year.append((year_df['Lead'] == 'Male').sum() / num_movies)\n",
    "    f_lead_p_year.append((year_df['Lead'] == 'Female').sum() / num_movies)\n",
    "    \n",
    "    # % of words spoken by male and female\n",
    "    num_words_male = year_df['Number words male'].sum()\n",
    "    num_words_male += year_df[(year_df['Lead'] == 'Male')]['Number of words lead'].sum()\n",
    "    m_words_p_year.append(num_words_male / year_df['Total words'].sum())\n",
    "    \n",
    "    num_words_female = year_df['Number words female'].sum()\n",
    "    num_words_female += year_df[(year_df['Lead'] == 'Female')]['Number of words lead'].sum()\n",
    "    f_words_p_year.append(num_words_female / year_df['Total words'].sum())\n",
    "    \n",
    "    # Female and male age average\n",
    "    f_age_mean.append(year_df['Mean Age Female'].mean())\n",
    "    m_age_mean.append(year_df['Mean Age Male'].mean())\n",
    "    \n",
    "    # Female and male lead age average\n",
    "    f_lead_age_mean.append(year_df[(year_df['Lead'] == 'Female')]['Age Lead'].mean())\n",
    "    m_lead_age_mean.append(year_df[(year_df['Lead'] == 'Male')]['Age Lead'].mean())\n",
    "    \n",
    "    \n",
    "analysis_df['Male lead %'] = m_lead_p_year\n",
    "analysis_df['Female lead %'] = f_lead_p_year\n",
    "analysis_df['Male words %'] = m_words_p_year\n",
    "analysis_df['Female words %'] = f_words_p_year\n",
    "analysis_df['Mean age female'] = f_age_mean\n",
    "analysis_df['Mean age male'] = m_age_mean\n",
    "analysis_df['Female lead age mean'] = f_lead_age_mean\n",
    "analysis_df['Male lead age mean'] = m_lead_age_mean"
   ]
  },
  {
   "cell_type": "code",
   "execution_count": 74,
   "id": "d0dcd0da-0ecf-4950-99b1-a2c2eda9455a",
   "metadata": {
    "execution": {
     "iopub.execute_input": "2021-12-01T20:44:21.112932Z",
     "iopub.status.busy": "2021-12-01T20:44:21.112551Z",
     "iopub.status.idle": "2021-12-01T20:44:21.174329Z",
     "shell.execute_reply": "2021-12-01T20:44:21.173015Z",
     "shell.execute_reply.started": "2021-12-01T20:44:21.112900Z"
    },
    "tags": []
   },
   "outputs": [
    {
     "data": {
      "text/html": [
       "<div>\n",
       "<style scoped>\n",
       "    .dataframe tbody tr th:only-of-type {\n",
       "        vertical-align: middle;\n",
       "    }\n",
       "\n",
       "    .dataframe tbody tr th {\n",
       "        vertical-align: top;\n",
       "    }\n",
       "\n",
       "    .dataframe thead th {\n",
       "        text-align: right;\n",
       "    }\n",
       "</style>\n",
       "<table border=\"1\" class=\"dataframe\">\n",
       "  <thead>\n",
       "    <tr style=\"text-align: right;\">\n",
       "      <th></th>\n",
       "      <th>Year</th>\n",
       "      <th>Male lead %</th>\n",
       "      <th>Female lead %</th>\n",
       "      <th>Male words %</th>\n",
       "      <th>Female words %</th>\n",
       "      <th>Mean age female</th>\n",
       "      <th>Mean age male</th>\n",
       "      <th>Female lead age mean</th>\n",
       "      <th>Male lead age mean</th>\n",
       "    </tr>\n",
       "  </thead>\n",
       "  <tbody>\n",
       "    <tr>\n",
       "      <th>count</th>\n",
       "      <td>35.000000</td>\n",
       "      <td>35.000000</td>\n",
       "      <td>35.000000</td>\n",
       "      <td>35.000000</td>\n",
       "      <td>35.000000</td>\n",
       "      <td>35.000000</td>\n",
       "      <td>35.000000</td>\n",
       "      <td>34.000000</td>\n",
       "      <td>35.000000</td>\n",
       "    </tr>\n",
       "    <tr>\n",
       "      <th>mean</th>\n",
       "      <td>1998.000000</td>\n",
       "      <td>0.766779</td>\n",
       "      <td>0.233221</td>\n",
       "      <td>0.707216</td>\n",
       "      <td>0.292784</td>\n",
       "      <td>35.557863</td>\n",
       "      <td>42.261814</td>\n",
       "      <td>33.731939</td>\n",
       "      <td>39.975132</td>\n",
       "    </tr>\n",
       "    <tr>\n",
       "      <th>std</th>\n",
       "      <td>10.246951</td>\n",
       "      <td>0.093939</td>\n",
       "      <td>0.093939</td>\n",
       "      <td>0.047272</td>\n",
       "      <td>0.047272</td>\n",
       "      <td>3.040956</td>\n",
       "      <td>2.752209</td>\n",
       "      <td>5.298813</td>\n",
       "      <td>3.499240</td>\n",
       "    </tr>\n",
       "    <tr>\n",
       "      <th>min</th>\n",
       "      <td>1981.000000</td>\n",
       "      <td>0.473684</td>\n",
       "      <td>0.000000</td>\n",
       "      <td>0.537967</td>\n",
       "      <td>0.185831</td>\n",
       "      <td>28.281667</td>\n",
       "      <td>38.410913</td>\n",
       "      <td>25.600000</td>\n",
       "      <td>33.166667</td>\n",
       "    </tr>\n",
       "    <tr>\n",
       "      <th>25%</th>\n",
       "      <td>1989.500000</td>\n",
       "      <td>0.715476</td>\n",
       "      <td>0.181818</td>\n",
       "      <td>0.680334</td>\n",
       "      <td>0.257701</td>\n",
       "      <td>33.859821</td>\n",
       "      <td>40.840010</td>\n",
       "      <td>29.375000</td>\n",
       "      <td>37.511111</td>\n",
       "    </tr>\n",
       "    <tr>\n",
       "      <th>50%</th>\n",
       "      <td>1998.000000</td>\n",
       "      <td>0.780488</td>\n",
       "      <td>0.219512</td>\n",
       "      <td>0.710688</td>\n",
       "      <td>0.289312</td>\n",
       "      <td>35.312446</td>\n",
       "      <td>41.903704</td>\n",
       "      <td>32.928571</td>\n",
       "      <td>40.000000</td>\n",
       "    </tr>\n",
       "    <tr>\n",
       "      <th>75%</th>\n",
       "      <td>2006.500000</td>\n",
       "      <td>0.818182</td>\n",
       "      <td>0.284524</td>\n",
       "      <td>0.742299</td>\n",
       "      <td>0.319666</td>\n",
       "      <td>37.294010</td>\n",
       "      <td>43.323220</td>\n",
       "      <td>36.886364</td>\n",
       "      <td>41.695000</td>\n",
       "    </tr>\n",
       "    <tr>\n",
       "      <th>max</th>\n",
       "      <td>2015.000000</td>\n",
       "      <td>1.000000</td>\n",
       "      <td>0.526316</td>\n",
       "      <td>0.814169</td>\n",
       "      <td>0.462033</td>\n",
       "      <td>43.046825</td>\n",
       "      <td>53.223958</td>\n",
       "      <td>48.250000</td>\n",
       "      <td>48.833333</td>\n",
       "    </tr>\n",
       "  </tbody>\n",
       "</table>\n",
       "</div>"
      ],
      "text/plain": [
       "              Year  Male lead %  Female lead %  Male words %  Female words %  \\\n",
       "count    35.000000    35.000000      35.000000     35.000000       35.000000   \n",
       "mean   1998.000000     0.766779       0.233221      0.707216        0.292784   \n",
       "std      10.246951     0.093939       0.093939      0.047272        0.047272   \n",
       "min    1981.000000     0.473684       0.000000      0.537967        0.185831   \n",
       "25%    1989.500000     0.715476       0.181818      0.680334        0.257701   \n",
       "50%    1998.000000     0.780488       0.219512      0.710688        0.289312   \n",
       "75%    2006.500000     0.818182       0.284524      0.742299        0.319666   \n",
       "max    2015.000000     1.000000       0.526316      0.814169        0.462033   \n",
       "\n",
       "       Mean age female  Mean age male  Female lead age mean  \\\n",
       "count        35.000000      35.000000             34.000000   \n",
       "mean         35.557863      42.261814             33.731939   \n",
       "std           3.040956       2.752209              5.298813   \n",
       "min          28.281667      38.410913             25.600000   \n",
       "25%          33.859821      40.840010             29.375000   \n",
       "50%          35.312446      41.903704             32.928571   \n",
       "75%          37.294010      43.323220             36.886364   \n",
       "max          43.046825      53.223958             48.250000   \n",
       "\n",
       "       Male lead age mean  \n",
       "count           35.000000  \n",
       "mean            39.975132  \n",
       "std              3.499240  \n",
       "min             33.166667  \n",
       "25%             37.511111  \n",
       "50%             40.000000  \n",
       "75%             41.695000  \n",
       "max             48.833333  "
      ]
     },
     "execution_count": 74,
     "metadata": {},
     "output_type": "execute_result"
    }
   ],
   "source": [
    "analysis_df.describe()"
   ]
  },
  {
   "cell_type": "code",
   "execution_count": 75,
   "id": "6a53124a-5b04-4b6d-b9af-02f58475c979",
   "metadata": {
    "execution": {
     "iopub.execute_input": "2021-12-01T20:44:36.571267Z",
     "iopub.status.busy": "2021-12-01T20:44:36.570846Z",
     "iopub.status.idle": "2021-12-01T20:44:36.602063Z",
     "shell.execute_reply": "2021-12-01T20:44:36.599213Z",
     "shell.execute_reply.started": "2021-12-01T20:44:36.571230Z"
    }
   },
   "outputs": [
    {
     "data": {
      "text/html": [
       "<div>\n",
       "<style scoped>\n",
       "    .dataframe tbody tr th:only-of-type {\n",
       "        vertical-align: middle;\n",
       "    }\n",
       "\n",
       "    .dataframe tbody tr th {\n",
       "        vertical-align: top;\n",
       "    }\n",
       "\n",
       "    .dataframe thead th {\n",
       "        text-align: right;\n",
       "    }\n",
       "</style>\n",
       "<table border=\"1\" class=\"dataframe\">\n",
       "  <thead>\n",
       "    <tr style=\"text-align: right;\">\n",
       "      <th></th>\n",
       "      <th>Year</th>\n",
       "      <th>Male lead %</th>\n",
       "      <th>Female lead %</th>\n",
       "      <th>Male words %</th>\n",
       "      <th>Female words %</th>\n",
       "      <th>Mean age female</th>\n",
       "      <th>Mean age male</th>\n",
       "      <th>Female lead age mean</th>\n",
       "      <th>Male lead age mean</th>\n",
       "    </tr>\n",
       "  </thead>\n",
       "  <tbody>\n",
       "    <tr>\n",
       "      <th>30</th>\n",
       "      <td>2011</td>\n",
       "      <td>0.659091</td>\n",
       "      <td>0.340909</td>\n",
       "      <td>0.651648</td>\n",
       "      <td>0.348352</td>\n",
       "      <td>38.862771</td>\n",
       "      <td>44.415346</td>\n",
       "      <td>37.066667</td>\n",
       "      <td>39.896552</td>\n",
       "    </tr>\n",
       "    <tr>\n",
       "      <th>31</th>\n",
       "      <td>2012</td>\n",
       "      <td>0.740741</td>\n",
       "      <td>0.259259</td>\n",
       "      <td>0.679631</td>\n",
       "      <td>0.320369</td>\n",
       "      <td>38.361287</td>\n",
       "      <td>43.325504</td>\n",
       "      <td>37.000000</td>\n",
       "      <td>41.250000</td>\n",
       "    </tr>\n",
       "    <tr>\n",
       "      <th>32</th>\n",
       "      <td>2013</td>\n",
       "      <td>0.862069</td>\n",
       "      <td>0.137931</td>\n",
       "      <td>0.716384</td>\n",
       "      <td>0.283616</td>\n",
       "      <td>39.037356</td>\n",
       "      <td>43.396596</td>\n",
       "      <td>48.250000</td>\n",
       "      <td>38.800000</td>\n",
       "    </tr>\n",
       "    <tr>\n",
       "      <th>33</th>\n",
       "      <td>2014</td>\n",
       "      <td>0.714286</td>\n",
       "      <td>0.285714</td>\n",
       "      <td>0.678631</td>\n",
       "      <td>0.321369</td>\n",
       "      <td>43.046825</td>\n",
       "      <td>43.609392</td>\n",
       "      <td>32.500000</td>\n",
       "      <td>46.666667</td>\n",
       "    </tr>\n",
       "    <tr>\n",
       "      <th>34</th>\n",
       "      <td>2015</td>\n",
       "      <td>0.473684</td>\n",
       "      <td>0.526316</td>\n",
       "      <td>0.537967</td>\n",
       "      <td>0.462033</td>\n",
       "      <td>42.401754</td>\n",
       "      <td>49.105981</td>\n",
       "      <td>45.100000</td>\n",
       "      <td>47.888889</td>\n",
       "    </tr>\n",
       "  </tbody>\n",
       "</table>\n",
       "</div>"
      ],
      "text/plain": [
       "    Year  Male lead %  Female lead %  Male words %  Female words %  \\\n",
       "30  2011     0.659091       0.340909      0.651648        0.348352   \n",
       "31  2012     0.740741       0.259259      0.679631        0.320369   \n",
       "32  2013     0.862069       0.137931      0.716384        0.283616   \n",
       "33  2014     0.714286       0.285714      0.678631        0.321369   \n",
       "34  2015     0.473684       0.526316      0.537967        0.462033   \n",
       "\n",
       "    Mean age female  Mean age male  Female lead age mean  Male lead age mean  \n",
       "30        38.862771      44.415346             37.066667           39.896552  \n",
       "31        38.361287      43.325504             37.000000           41.250000  \n",
       "32        39.037356      43.396596             48.250000           38.800000  \n",
       "33        43.046825      43.609392             32.500000           46.666667  \n",
       "34        42.401754      49.105981             45.100000           47.888889  "
      ]
     },
     "execution_count": 75,
     "metadata": {},
     "output_type": "execute_result"
    }
   ],
   "source": [
    "analysis_df.tail()"
   ]
  },
  {
   "cell_type": "code",
   "execution_count": 62,
   "id": "3b450b37-2f5e-4a0c-82c3-0457a4673ef5",
   "metadata": {
    "execution": {
     "iopub.execute_input": "2021-12-01T18:27:17.124271Z",
     "iopub.status.busy": "2021-12-01T18:27:17.123887Z",
     "iopub.status.idle": "2021-12-01T18:27:17.638992Z",
     "shell.execute_reply": "2021-12-01T18:27:17.634597Z",
     "shell.execute_reply.started": "2021-12-01T18:27:17.124237Z"
    },
    "tags": []
   },
   "outputs": [
    {
     "data": {
      "image/png": "[encoded data removed]",
      "text/plain": [
       "<Figure size 360x360 with 1 Axes>"
      ]
     },
     "metadata": {},
     "output_type": "display_data"
    }
   ],
   "source": [
    "male_lead_plot = sns.relplot(data=analysis_df, x=analysis_df['Year'], y='Male lead %', kind='line');\n",
    "male_lead_plot.set(xlim=(1980,2015), ylim=(0,1), title=\"Male dominance of leading roles\")\n",
    "male_lead_plot.ax.axline(xy1=(1980, 0.5), slope=0, color=\"r\", dashes=(5, 2))\n",
    "male_lead_plot.ax.yaxis.set_major_formatter(PercentFormatter(1))"
   ]
  },
  {
   "cell_type": "code",
   "execution_count": 63,
   "id": "e2ba4fae-c38f-4c9b-a9dd-2989271d81a3",
   "metadata": {
    "execution": {
     "iopub.execute_input": "2021-12-01T18:27:47.312289Z",
     "iopub.status.busy": "2021-12-01T18:27:47.311899Z",
     "iopub.status.idle": "2021-12-01T18:27:47.773323Z",
     "shell.execute_reply": "2021-12-01T18:27:47.772228Z",
     "shell.execute_reply.started": "2021-12-01T18:27:47.312255Z"
    },
    "tags": []
   },
   "outputs": [
    {
     "data": {
      "image/png": "[encoded data removed]",
      "text/plain": [
       "<Figure size 360x360 with 1 Axes>"
      ]
     },
     "metadata": {},
     "output_type": "display_data"
    }
   ],
   "source": [
    "male_words_plot = sns.relplot(data=analysis_df, x=analysis_df['Year'], y='Male words %', kind='line');\n",
    "male_words_plot.set(xlim=(1980,2015), ylim=(0,1), title=\"Male dominance of words spoken\")\n",
    "male_words_plot.ax.axline(xy1=(1980, 0.5), slope=0, color=\"r\", dashes=(5, 2))\n",
    "male_words_plot.ax.yaxis.set_major_formatter(PercentFormatter(1))"
   ]
  },
  {
   "cell_type": "code",
   "execution_count": 59,
   "id": "d259f71a-300d-44fd-811e-033d54d4a9d2",
   "metadata": {
    "execution": {
     "iopub.execute_input": "2021-12-01T16:14:12.553051Z",
     "iopub.status.busy": "2021-12-01T16:14:12.552506Z",
     "iopub.status.idle": "2021-12-01T16:14:13.021120Z",
     "shell.execute_reply": "2021-12-01T16:14:13.018056Z",
     "shell.execute_reply.started": "2021-12-01T16:14:12.553012Z"
    },
    "tags": []
   },
   "outputs": [
    {
     "data": {
      "text/plain": [
       "<seaborn.axisgrid.FacetGrid at 0x7fc7efd606a0>"
      ]
     },
     "execution_count": 59,
     "metadata": {},
     "output_type": "execute_result"
    },
    {
     "data": {
      "image/png": "[encoded data removed]",
      "text/plain": [
       "<Figure size 360x360 with 1 Axes>"
      ]
     },
     "metadata": {},
     "output_type": "display_data"
    }
   ],
   "source": [
    "male_lead_plot = sns.relplot(data=analysis_df, x=analysis_df['Year'], y='Mean number of male actors', kind='line');\n",
    "male_lead_plot.set(xlim=(1982,2015))"
   ]
  },
  {
   "cell_type": "code",
   "execution_count": 60,
   "id": "351326bc-bbd4-4793-ab87-4c47477d9418",
   "metadata": {
    "execution": {
     "iopub.execute_input": "2021-12-01T16:14:59.227806Z",
     "iopub.status.busy": "2021-12-01T16:14:59.226984Z",
     "iopub.status.idle": "2021-12-01T16:14:59.888061Z",
     "shell.execute_reply": "2021-12-01T16:14:59.886927Z",
     "shell.execute_reply.started": "2021-12-01T16:14:59.227754Z"
    }
   },
   "outputs": [
    {
     "data": {
      "text/plain": [
       "<seaborn.axisgrid.FacetGrid at 0x7fc7eec64880>"
      ]
     },
     "execution_count": 60,
     "metadata": {},
     "output_type": "execute_result"
    },
    {
     "data": {
      "image/png": "[encoded data removed]",
      "text/plain": [
       "<Figure size 360x360 with 1 Axes>"
      ]
     },
     "metadata": {},
     "output_type": "display_data"
    }
   ],
   "source": [
    "male_lead_plot = sns.relplot(data=analysis_df, x=analysis_df['Year'], y='Mean number of female actors', kind='line');\n",
    "male_lead_plot.set(xlim=(1982,2015))"
   ]
  },
  {
   "cell_type": "markdown",
   "id": "7b7617df-5c94-4485-a410-9683db9fc4f8",
   "metadata": {},
   "source": [
    "## Other general statistics"
   ]
  },
  {
   "cell_type": "code",
   "execution_count": 48,
   "id": "93751d65-4a6b-42d9-9b77-ee65b348c089",
   "metadata": {
    "execution": {
     "iopub.execute_input": "2021-12-01T15:27:57.325032Z",
     "iopub.status.busy": "2021-12-01T15:27:57.324646Z",
     "iopub.status.idle": "2021-12-01T15:27:57.569016Z",
     "shell.execute_reply": "2021-12-01T15:27:57.567924Z",
     "shell.execute_reply.started": "2021-12-01T15:27:57.324996Z"
    },
    "tags": []
   },
   "outputs": [],
   "source": [
    "m_words_p = [] # Male words %\n",
    "f_words_p = [] # Female words %\n",
    "\n",
    "meanw_per_actor = [] # Mean words per actor\n",
    "meanw_per_actress = [] # Mean words per actress\n",
    "\n",
    "for (idx, row) in data.iterrows():\n",
    "    total_words = row.loc['Total words']\n",
    "    words_male = row.loc['Number words male']\n",
    "    words_female = row.loc['Number words female']\n",
    "    words_lead = row.loc['Number of words lead']\n",
    "    num_actress = row.loc['Number of female actors']\n",
    "    num_actors = row.loc['Number of male actors']\n",
    "    \n",
    "    lead = row.loc['Lead']\n",
    "    if lead == 'Male':\n",
    "        words_male += words_lead\n",
    "        m_words_p.append(words_male / total_words)\n",
    "        f_words_p.append(words_female / total_words)\n",
    "        meanw_per_actor.append(m_t_words / num_actors)\n",
    "        meanw_per_actress.append(words_female)\n",
    "    else:\n",
    "        words_female += words_lead\n",
    "        f_words_p.append(words_female / total_words)\n",
    "        m_words_p.append(words_male / total_words)\n",
    "        meanw_per_actor.append(words_male / num_actors)\n",
    "        meanw_per_actress.append(words_female / num_actress)\n",
    "        \n",
    "    \n",
    "data['Male words %'] = m_words_p\n",
    "data['Female words %'] = f_words_p\n",
    "data['Mean words per actress'] = meanw_per_actress\n",
    "data['Mean words per actor'] = meanw_per_actor"
   ]
  },
  {
   "cell_type": "code",
   "execution_count": 49,
   "id": "6d134b3b-247a-47e1-b787-af2ee98e2d32",
   "metadata": {
    "execution": {
     "iopub.execute_input": "2021-12-01T15:28:01.180948Z",
     "iopub.status.busy": "2021-12-01T15:28:01.180571Z",
     "iopub.status.idle": "2021-12-01T15:28:01.235472Z",
     "shell.execute_reply": "2021-12-01T15:28:01.234262Z",
     "shell.execute_reply.started": "2021-12-01T15:28:01.180913Z"
    },
    "tags": []
   },
   "outputs": [
    {
     "data": {
      "text/html": [
       "<div>\n",
       "<style scoped>\n",
       "    .dataframe tbody tr th:only-of-type {\n",
       "        vertical-align: middle;\n",
       "    }\n",
       "\n",
       "    .dataframe tbody tr th {\n",
       "        vertical-align: top;\n",
       "    }\n",
       "\n",
       "    .dataframe thead th {\n",
       "        text-align: right;\n",
       "    }\n",
       "</style>\n",
       "<table border=\"1\" class=\"dataframe\">\n",
       "  <thead>\n",
       "    <tr style=\"text-align: right;\">\n",
       "      <th></th>\n",
       "      <th>index</th>\n",
       "      <th>Number words female</th>\n",
       "      <th>Total words</th>\n",
       "      <th>Number of words lead</th>\n",
       "      <th>Difference in words lead and co-lead</th>\n",
       "      <th>Number of male actors</th>\n",
       "      <th>Number of female actors</th>\n",
       "      <th>Number words male</th>\n",
       "      <th>Gross</th>\n",
       "      <th>Mean Age Male</th>\n",
       "      <th>Mean Age Female</th>\n",
       "      <th>Age Lead</th>\n",
       "      <th>Age Co-Lead</th>\n",
       "      <th>Lead</th>\n",
       "      <th>Number words co-lead</th>\n",
       "      <th>Male words %</th>\n",
       "      <th>Female words %</th>\n",
       "      <th>Mean words per actress</th>\n",
       "      <th>Mean words per actor</th>\n",
       "    </tr>\n",
       "    <tr>\n",
       "      <th>Year</th>\n",
       "      <th></th>\n",
       "      <th></th>\n",
       "      <th></th>\n",
       "      <th></th>\n",
       "      <th></th>\n",
       "      <th></th>\n",
       "      <th></th>\n",
       "      <th></th>\n",
       "      <th></th>\n",
       "      <th></th>\n",
       "      <th></th>\n",
       "      <th></th>\n",
       "      <th></th>\n",
       "      <th></th>\n",
       "      <th></th>\n",
       "      <th></th>\n",
       "      <th></th>\n",
       "      <th></th>\n",
       "      <th></th>\n",
       "    </tr>\n",
       "  </thead>\n",
       "  <tbody>\n",
       "    <tr>\n",
       "      <th>1939</th>\n",
       "      <td>218</td>\n",
       "      <td>1326</td>\n",
       "      <td>9092</td>\n",
       "      <td>3060.0</td>\n",
       "      <td>1709</td>\n",
       "      <td>7</td>\n",
       "      <td>3</td>\n",
       "      <td>4706</td>\n",
       "      <td>839.0</td>\n",
       "      <td>47.166667</td>\n",
       "      <td>36.333333</td>\n",
       "      <td>17.0</td>\n",
       "      <td>35.0</td>\n",
       "      <td>Female</td>\n",
       "      <td>1351.0</td>\n",
       "      <td>0.517598</td>\n",
       "      <td>0.482402</td>\n",
       "      <td>1462.0</td>\n",
       "      <td>672.285714</td>\n",
       "    </tr>\n",
       "    <tr>\n",
       "      <th>1939</th>\n",
       "      <td>544</td>\n",
       "      <td>5146</td>\n",
       "      <td>15363</td>\n",
       "      <td>6350.0</td>\n",
       "      <td>1204</td>\n",
       "      <td>10</td>\n",
       "      <td>1</td>\n",
       "      <td>3867</td>\n",
       "      <td>45.0</td>\n",
       "      <td>49.800000</td>\n",
       "      <td>34.000000</td>\n",
       "      <td>38.0</td>\n",
       "      <td>34.0</td>\n",
       "      <td>Male</td>\n",
       "      <td>5146.0</td>\n",
       "      <td>0.665039</td>\n",
       "      <td>0.334961</td>\n",
       "      <td>5146.0</td>\n",
       "      <td>653.100000</td>\n",
       "    </tr>\n",
       "    <tr>\n",
       "      <th>1949</th>\n",
       "      <td>1011</td>\n",
       "      <td>1512</td>\n",
       "      <td>9053</td>\n",
       "      <td>3160.0</td>\n",
       "      <td>1760</td>\n",
       "      <td>8</td>\n",
       "      <td>2</td>\n",
       "      <td>4381</td>\n",
       "      <td>8.0</td>\n",
       "      <td>45.500000</td>\n",
       "      <td>54.500000</td>\n",
       "      <td>44.0</td>\n",
       "      <td>28.0</td>\n",
       "      <td>Male</td>\n",
       "      <td>1400.0</td>\n",
       "      <td>0.832984</td>\n",
       "      <td>0.167016</td>\n",
       "      <td>1512.0</td>\n",
       "      <td>816.375000</td>\n",
       "    </tr>\n",
       "    <tr>\n",
       "      <th>1954</th>\n",
       "      <td>578</td>\n",
       "      <td>8528</td>\n",
       "      <td>18744</td>\n",
       "      <td>9974.0</td>\n",
       "      <td>4878</td>\n",
       "      <td>2</td>\n",
       "      <td>2</td>\n",
       "      <td>242</td>\n",
       "      <td>30.0</td>\n",
       "      <td>41.500000</td>\n",
       "      <td>38.500000</td>\n",
       "      <td>46.0</td>\n",
       "      <td>25.0</td>\n",
       "      <td>Male</td>\n",
       "      <td>5096.0</td>\n",
       "      <td>0.545028</td>\n",
       "      <td>0.454972</td>\n",
       "      <td>8528.0</td>\n",
       "      <td>3265.500000</td>\n",
       "    </tr>\n",
       "    <tr>\n",
       "      <th>1954</th>\n",
       "      <td>856</td>\n",
       "      <td>1939</td>\n",
       "      <td>10553</td>\n",
       "      <td>3954.0</td>\n",
       "      <td>2138</td>\n",
       "      <td>11</td>\n",
       "      <td>2</td>\n",
       "      <td>4660</td>\n",
       "      <td>185.0</td>\n",
       "      <td>38.714286</td>\n",
       "      <td>33.500000</td>\n",
       "      <td>30.0</td>\n",
       "      <td>30.0</td>\n",
       "      <td>Male</td>\n",
       "      <td>1816.0</td>\n",
       "      <td>0.816261</td>\n",
       "      <td>0.183739</td>\n",
       "      <td>1939.0</td>\n",
       "      <td>593.727273</td>\n",
       "    </tr>\n",
       "  </tbody>\n",
       "</table>\n",
       "</div>"
      ],
      "text/plain": [
       "      index  Number words female  Total words  Number of words lead  \\\n",
       "Year                                                                  \n",
       "1939    218                 1326         9092                3060.0   \n",
       "1939    544                 5146        15363                6350.0   \n",
       "1949   1011                 1512         9053                3160.0   \n",
       "1954    578                 8528        18744                9974.0   \n",
       "1954    856                 1939        10553                3954.0   \n",
       "\n",
       "      Difference in words lead and co-lead  Number of male actors  \\\n",
       "Year                                                                \n",
       "1939                                  1709                      7   \n",
       "1939                                  1204                     10   \n",
       "1949                                  1760                      8   \n",
       "1954                                  4878                      2   \n",
       "1954                                  2138                     11   \n",
       "\n",
       "      Number of female actors  Number words male  Gross  Mean Age Male  \\\n",
       "Year                                                                     \n",
       "1939                        3               4706  839.0      47.166667   \n",
       "1939                        1               3867   45.0      49.800000   \n",
       "1949                        2               4381    8.0      45.500000   \n",
       "1954                        2                242   30.0      41.500000   \n",
       "1954                        2               4660  185.0      38.714286   \n",
       "\n",
       "      Mean Age Female  Age Lead  Age Co-Lead    Lead  Number words co-lead  \\\n",
       "Year                                                                         \n",
       "1939        36.333333      17.0         35.0  Female                1351.0   \n",
       "1939        34.000000      38.0         34.0    Male                5146.0   \n",
       "1949        54.500000      44.0         28.0    Male                1400.0   \n",
       "1954        38.500000      46.0         25.0    Male                5096.0   \n",
       "1954        33.500000      30.0         30.0    Male                1816.0   \n",
       "\n",
       "      Male words %  Female words %  Mean words per actress  \\\n",
       "Year                                                         \n",
       "1939      0.517598        0.482402                  1462.0   \n",
       "1939      0.665039        0.334961                  5146.0   \n",
       "1949      0.832984        0.167016                  1512.0   \n",
       "1954      0.545028        0.454972                  8528.0   \n",
       "1954      0.816261        0.183739                  1939.0   \n",
       "\n",
       "      Mean words per actor  \n",
       "Year                        \n",
       "1939            672.285714  \n",
       "1939            653.100000  \n",
       "1949            816.375000  \n",
       "1954           3265.500000  \n",
       "1954            593.727273  "
      ]
     },
     "execution_count": 49,
     "metadata": {},
     "output_type": "execute_result"
    }
   ],
   "source": [
    "data.head()"
   ]
  },
  {
   "cell_type": "code",
   "execution_count": 37,
   "id": "2bd98298-ad13-4303-9a88-7f949ab7d993",
   "metadata": {
    "execution": {
     "iopub.execute_input": "2021-12-01T15:07:52.063771Z",
     "iopub.status.busy": "2021-12-01T15:07:52.062704Z",
     "iopub.status.idle": "2021-12-01T15:07:52.284041Z",
     "shell.execute_reply": "2021-12-01T15:07:52.282804Z",
     "shell.execute_reply.started": "2021-12-01T15:07:52.063714Z"
    }
   },
   "outputs": [
    {
     "data": {
      "text/html": [
       "<div>\n",
       "<style scoped>\n",
       "    .dataframe tbody tr th:only-of-type {\n",
       "        vertical-align: middle;\n",
       "    }\n",
       "\n",
       "    .dataframe tbody tr th {\n",
       "        vertical-align: top;\n",
       "    }\n",
       "\n",
       "    .dataframe thead th {\n",
       "        text-align: right;\n",
       "    }\n",
       "</style>\n",
       "<table border=\"1\" class=\"dataframe\">\n",
       "  <thead>\n",
       "    <tr style=\"text-align: right;\">\n",
       "      <th></th>\n",
       "      <th>index</th>\n",
       "      <th>Number words female</th>\n",
       "      <th>Total words</th>\n",
       "      <th>Number of words lead</th>\n",
       "      <th>Difference in words lead and co-lead</th>\n",
       "      <th>Number of male actors</th>\n",
       "      <th>Number of female actors</th>\n",
       "      <th>Number words male</th>\n",
       "      <th>Gross</th>\n",
       "      <th>Mean Age Male</th>\n",
       "      <th>Mean Age Female</th>\n",
       "      <th>Age Lead</th>\n",
       "      <th>Age Co-Lead</th>\n",
       "      <th>Number words co-lead</th>\n",
       "      <th>Male words %</th>\n",
       "      <th>Female words %</th>\n",
       "    </tr>\n",
       "  </thead>\n",
       "  <tbody>\n",
       "    <tr>\n",
       "      <th>count</th>\n",
       "      <td>1013.000000</td>\n",
       "      <td>1013.000000</td>\n",
       "      <td>1013.000000</td>\n",
       "      <td>1013.000000</td>\n",
       "      <td>1013.000000</td>\n",
       "      <td>1013.000000</td>\n",
       "      <td>1013.000000</td>\n",
       "      <td>1013.000000</td>\n",
       "      <td>1013.000000</td>\n",
       "      <td>1013.000000</td>\n",
       "      <td>1013.000000</td>\n",
       "      <td>1013.000000</td>\n",
       "      <td>1013.000000</td>\n",
       "      <td>1013.000000</td>\n",
       "      <td>1013.000000</td>\n",
       "      <td>1013.000000</td>\n",
       "    </tr>\n",
       "    <tr>\n",
       "      <th>mean</th>\n",
       "      <td>520.535044</td>\n",
       "      <td>2375.824284</td>\n",
       "      <td>11147.630800</td>\n",
       "      <td>4156.122409</td>\n",
       "      <td>2567.855874</td>\n",
       "      <td>7.818361</td>\n",
       "      <td>3.563672</td>\n",
       "      <td>4615.684107</td>\n",
       "      <td>109.979269</td>\n",
       "      <td>42.256765</td>\n",
       "      <td>35.972203</td>\n",
       "      <td>38.777887</td>\n",
       "      <td>35.390918</td>\n",
       "      <td>1588.266535</td>\n",
       "      <td>0.701819</td>\n",
       "      <td>0.298181</td>\n",
       "    </tr>\n",
       "    <tr>\n",
       "      <th>std</th>\n",
       "      <td>299.733745</td>\n",
       "      <td>2150.615952</td>\n",
       "      <td>6822.072347</td>\n",
       "      <td>2988.035028</td>\n",
       "      <td>2511.340011</td>\n",
       "      <td>3.880194</td>\n",
       "      <td>2.080196</td>\n",
       "      <td>3429.487030</td>\n",
       "      <td>151.832276</td>\n",
       "      <td>7.766994</td>\n",
       "      <td>8.934847</td>\n",
       "      <td>12.302472</td>\n",
       "      <td>12.038279</td>\n",
       "      <td>1371.320009</td>\n",
       "      <td>0.205295</td>\n",
       "      <td>0.205295</td>\n",
       "    </tr>\n",
       "    <tr>\n",
       "      <th>min</th>\n",
       "      <td>0.000000</td>\n",
       "      <td>102.000000</td>\n",
       "      <td>1351.000000</td>\n",
       "      <td>318.000000</td>\n",
       "      <td>1.000000</td>\n",
       "      <td>1.000000</td>\n",
       "      <td>1.000000</td>\n",
       "      <td>113.000000</td>\n",
       "      <td>0.000000</td>\n",
       "      <td>19.000000</td>\n",
       "      <td>13.000000</td>\n",
       "      <td>11.000000</td>\n",
       "      <td>7.000000</td>\n",
       "      <td>102.000000</td>\n",
       "      <td>0.006809</td>\n",
       "      <td>0.006506</td>\n",
       "    </tr>\n",
       "    <tr>\n",
       "      <th>25%</th>\n",
       "      <td>262.000000</td>\n",
       "      <td>965.000000</td>\n",
       "      <td>6581.000000</td>\n",
       "      <td>2111.000000</td>\n",
       "      <td>869.000000</td>\n",
       "      <td>5.000000</td>\n",
       "      <td>2.000000</td>\n",
       "      <td>2188.000000</td>\n",
       "      <td>22.000000</td>\n",
       "      <td>37.285714</td>\n",
       "      <td>29.500000</td>\n",
       "      <td>30.000000</td>\n",
       "      <td>28.000000</td>\n",
       "      <td>667.000000</td>\n",
       "      <td>0.596965</td>\n",
       "      <td>0.145189</td>\n",
       "    </tr>\n",
       "    <tr>\n",
       "      <th>50%</th>\n",
       "      <td>519.000000</td>\n",
       "      <td>1730.000000</td>\n",
       "      <td>9351.000000</td>\n",
       "      <td>3398.000000</td>\n",
       "      <td>1850.000000</td>\n",
       "      <td>7.000000</td>\n",
       "      <td>3.000000</td>\n",
       "      <td>3882.000000</td>\n",
       "      <td>59.000000</td>\n",
       "      <td>42.500000</td>\n",
       "      <td>35.000000</td>\n",
       "      <td>38.000000</td>\n",
       "      <td>34.000000</td>\n",
       "      <td>1186.000000</td>\n",
       "      <td>0.753887</td>\n",
       "      <td>0.246113</td>\n",
       "    </tr>\n",
       "    <tr>\n",
       "      <th>75%</th>\n",
       "      <td>781.000000</td>\n",
       "      <td>3073.000000</td>\n",
       "      <td>14205.000000</td>\n",
       "      <td>5292.000000</td>\n",
       "      <td>3436.000000</td>\n",
       "      <td>10.000000</td>\n",
       "      <td>5.000000</td>\n",
       "      <td>5930.000000</td>\n",
       "      <td>140.000000</td>\n",
       "      <td>47.260870</td>\n",
       "      <td>41.500000</td>\n",
       "      <td>46.000000</td>\n",
       "      <td>41.000000</td>\n",
       "      <td>2074.000000</td>\n",
       "      <td>0.854811</td>\n",
       "      <td>0.403035</td>\n",
       "    </tr>\n",
       "    <tr>\n",
       "      <th>max</th>\n",
       "      <td>1038.000000</td>\n",
       "      <td>17658.000000</td>\n",
       "      <td>67548.000000</td>\n",
       "      <td>28102.000000</td>\n",
       "      <td>25822.000000</td>\n",
       "      <td>29.000000</td>\n",
       "      <td>16.000000</td>\n",
       "      <td>31146.000000</td>\n",
       "      <td>1798.000000</td>\n",
       "      <td>71.000000</td>\n",
       "      <td>81.333333</td>\n",
       "      <td>81.000000</td>\n",
       "      <td>85.000000</td>\n",
       "      <td>10316.000000</td>\n",
       "      <td>0.993494</td>\n",
       "      <td>0.993191</td>\n",
       "    </tr>\n",
       "  </tbody>\n",
       "</table>\n",
       "</div>"
      ],
      "text/plain": [
       "             index  Number words female   Total words  Number of words lead  \\\n",
       "count  1013.000000          1013.000000   1013.000000           1013.000000   \n",
       "mean    520.535044          2375.824284  11147.630800           4156.122409   \n",
       "std     299.733745          2150.615952   6822.072347           2988.035028   \n",
       "min       0.000000           102.000000   1351.000000            318.000000   \n",
       "25%     262.000000           965.000000   6581.000000           2111.000000   \n",
       "50%     519.000000          1730.000000   9351.000000           3398.000000   \n",
       "75%     781.000000          3073.000000  14205.000000           5292.000000   \n",
       "max    1038.000000         17658.000000  67548.000000          28102.000000   \n",
       "\n",
       "       Difference in words lead and co-lead  Number of male actors  \\\n",
       "count                           1013.000000            1013.000000   \n",
       "mean                            2567.855874               7.818361   \n",
       "std                             2511.340011               3.880194   \n",
       "min                                1.000000               1.000000   \n",
       "25%                              869.000000               5.000000   \n",
       "50%                             1850.000000               7.000000   \n",
       "75%                             3436.000000              10.000000   \n",
       "max                            25822.000000              29.000000   \n",
       "\n",
       "       Number of female actors  Number words male        Gross  Mean Age Male  \\\n",
       "count              1013.000000        1013.000000  1013.000000    1013.000000   \n",
       "mean                  3.563672        4615.684107   109.979269      42.256765   \n",
       "std                   2.080196        3429.487030   151.832276       7.766994   \n",
       "min                   1.000000         113.000000     0.000000      19.000000   \n",
       "25%                   2.000000        2188.000000    22.000000      37.285714   \n",
       "50%                   3.000000        3882.000000    59.000000      42.500000   \n",
       "75%                   5.000000        5930.000000   140.000000      47.260870   \n",
       "max                  16.000000       31146.000000  1798.000000      71.000000   \n",
       "\n",
       "       Mean Age Female     Age Lead  Age Co-Lead  Number words co-lead  \\\n",
       "count      1013.000000  1013.000000  1013.000000           1013.000000   \n",
       "mean         35.972203    38.777887    35.390918           1588.266535   \n",
       "std           8.934847    12.302472    12.038279           1371.320009   \n",
       "min          13.000000    11.000000     7.000000            102.000000   \n",
       "25%          29.500000    30.000000    28.000000            667.000000   \n",
       "50%          35.000000    38.000000    34.000000           1186.000000   \n",
       "75%          41.500000    46.000000    41.000000           2074.000000   \n",
       "max          81.333333    81.000000    85.000000          10316.000000   \n",
       "\n",
       "       Male words %  Female words %  \n",
       "count   1013.000000     1013.000000  \n",
       "mean       0.701819        0.298181  \n",
       "std        0.205295        0.205295  \n",
       "min        0.006809        0.006506  \n",
       "25%        0.596965        0.145189  \n",
       "50%        0.753887        0.246113  \n",
       "75%        0.854811        0.403035  \n",
       "max        0.993494        0.993191  "
      ]
     },
     "execution_count": 37,
     "metadata": {},
     "output_type": "execute_result"
    }
   ],
   "source": [
    "data.describe()"
   ]
  },
  {
   "cell_type": "code",
   "execution_count": 65,
   "id": "7cefaaf4-d9bc-4382-8c33-fd65706e13b1",
   "metadata": {
    "execution": {
     "iopub.execute_input": "2021-12-01T20:16:14.356927Z",
     "iopub.status.busy": "2021-12-01T20:16:14.356540Z",
     "iopub.status.idle": "2021-12-01T20:16:14.817633Z",
     "shell.execute_reply": "2021-12-01T20:16:14.816503Z",
     "shell.execute_reply.started": "2021-12-01T20:16:14.356892Z"
    },
    "tags": []
   },
   "outputs": [
    {
     "data": {
      "image/png": "[encoded data removed]",
      "text/plain": [
       "<Figure size 360x360 with 1 Axes>"
      ]
     },
     "metadata": {},
     "output_type": "display_data"
    }
   ],
   "source": [
    "gross_plot = sns.relplot(data=data, x=data['Gross'], y=data['Male words %']);\n",
    "gross_plot.ax.axline(xy1=(200, 0.5), slope=0, color=\"r\", dashes=(5, 2))\n",
    "gross_plot.ax.axline(xy1=(200, 0.70), slope=0, color=\"g\", dashes=(4, 10))\n",
    "gross_plot.ax.yaxis.set_major_formatter(PercentFormatter(1))"
   ]
  },
  {
   "cell_type": "markdown",
   "id": "153037bd-8192-4c43-a4ba-d8889515cea5",
   "metadata": {},
   "source": [
    "Above the red dotted line are the movies where male actors speak more than 50% of the words (gender balance).\n",
    "\n",
    "Above the green dotted line are the movies where male actors speak more than 75% of the words (overall male speaking % mean).\n",
    "\n",
    "On both accounts, movies with higher gross (X axis) tend to have more % of the words spoken by males."
   ]
  },
  {
   "cell_type": "markdown",
   "id": "a7b75f64-9a1d-434f-8fa6-6952689965c2",
   "metadata": {},
   "source": [
    "## Other tests\n",
    "Below are other tests.. for example, exploring if there are analysis respecting age. For example, the mean age of females in films is 7 years younger than males. Can other interesting relationships can be seen?"
   ]
  },
  {
   "cell_type": "code",
   "execution_count": 50,
   "id": "4b95d014-7e11-4909-859b-a7566d89f0cc",
   "metadata": {
    "execution": {
     "iopub.execute_input": "2021-12-01T15:37:35.973999Z",
     "iopub.status.busy": "2021-12-01T15:37:35.973342Z",
     "iopub.status.idle": "2021-12-01T15:37:36.452517Z",
     "shell.execute_reply": "2021-12-01T15:37:36.451372Z",
     "shell.execute_reply.started": "2021-12-01T15:37:35.973958Z"
    },
    "tags": []
   },
   "outputs": [
    {
     "data": {
      "image/png": "[encoded data removed]",
      "text/plain": [
       "<Figure size 360x360 with 1 Axes>"
      ]
     },
     "metadata": {},
     "output_type": "display_data"
    }
   ],
   "source": [
    "female_age_average_plot = sns.relplot(data=analysis_df, x=analysis_df['Year'], y='Mean age female', kind='line');\n",
    "female_age_average_plot.set(ylim=(0,60));"
   ]
  },
  {
   "cell_type": "code",
   "execution_count": 51,
   "id": "276b8d57-75d5-4386-a491-daa81bdbac74",
   "metadata": {
    "execution": {
     "iopub.execute_input": "2021-12-01T15:37:39.776157Z",
     "iopub.status.busy": "2021-12-01T15:37:39.775271Z",
     "iopub.status.idle": "2021-12-01T15:37:40.468665Z",
     "shell.execute_reply": "2021-12-01T15:37:40.467263Z",
     "shell.execute_reply.started": "2021-12-01T15:37:39.776118Z"
    },
    "tags": []
   },
   "outputs": [
    {
     "data": {
      "image/png": "[encoded data removed]",
      "text/plain": [
       "<Figure size 360x360 with 1 Axes>"
      ]
     },
     "metadata": {},
     "output_type": "display_data"
    }
   ],
   "source": [
    "female_age_average_plot = sns.relplot(data=analysis_df, x=analysis_df['Year'], y='Mean age male', kind='line');\n",
    "female_age_average_plot.set(ylim=(0,60));"
   ]
  },
  {
   "cell_type": "code",
   "execution_count": null,
   "id": "5c981909-9898-42f2-8e23-60a3a87ecdb6",
   "metadata": {},
   "outputs": [],
   "source": []
  }
 ],
 "metadata": {
  "kernelspec": {
   "display_name": "Python 3 (ipykernel)",
   "language": "python",
   "name": "python3"
  },
  "language_info": {
   "codemirror_mode": {
    "name": "ipython",
    "version": 3
   },
   "file_extension": ".py",
   "mimetype": "text/x-python",
   "name": "python",
   "nbconvert_exporter": "python",
   "pygments_lexer": "ipython3",
   "version": "3.8.12"
  }
 },
 "nbformat": 4,
 "nbformat_minor": 5
}
