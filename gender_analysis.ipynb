{
 "cells": [
  {
   "cell_type": "markdown",
   "id": "3318f384-995a-4dab-89bd-1653baffcbda",
   "metadata": {},
   "source": [
    "# Gender Analysis\n",
    "Include information and graphs that help answering the following questions\n",
    "* Do men or women dominate speaking roles in Hollywood movies?\n",
    "* Has gender balance in speaking roles changed over time?\n",
    "* Do films in which men do more speaking make a lot more money than films in which women speak more?"
   ]
  },
  {
   "cell_type": "markdown",
   "id": "fa50f7a9-35db-4df6-bc73-e06e58f2fbaf",
   "metadata": {},
   "source": [
    "## Some graphs to include\n",
    "Plot the following by year\n",
    "* General proportion of male lead.\n",
    "* Proportion of words spoken.\n",
    "* Lead age average by gender\n",
    "* Words per non-lead person on average depending on gender (the same proportion stands as with the lead?)"
   ]
  },
  {
   "cell_type": "code",
   "execution_count": 224,
   "id": "5ff586af-7e4b-4fe2-94f4-bf480bebec2e",
   "metadata": {},
   "outputs": [],
   "source": [
    "import pandas as pd\n",
    "import numpy as np\n",
    "import seaborn as sns\n",
    "from  matplotlib.ticker import PercentFormatter\n",
    "sns.set_theme(style=\"darkgrid\")"
   ]
  },
  {
   "cell_type": "code",
   "execution_count": 225,
   "id": "f5142a1d-8783-4ea8-be5b-f5af68cf7ba7",
   "metadata": {},
   "outputs": [],
   "source": [
    "# Load the dataset\n",
    "url = 'data/train.csv'\n",
    "data = pd.read_csv(url)"
   ]
  },
  {
   "cell_type": "code",
   "execution_count": 226,
   "id": "c935fe2f-8644-4c36-8ce6-a92522f5203b",
   "metadata": {},
   "outputs": [
    {
     "data": {
      "text/html": [
       "<div>\n",
       "<style scoped>\n",
       "    .dataframe tbody tr th:only-of-type {\n",
       "        vertical-align: middle;\n",
       "    }\n",
       "\n",
       "    .dataframe tbody tr th {\n",
       "        vertical-align: top;\n",
       "    }\n",
       "\n",
       "    .dataframe thead th {\n",
       "        text-align: right;\n",
       "    }\n",
       "</style>\n",
       "<table border=\"1\" class=\"dataframe\">\n",
       "  <thead>\n",
       "    <tr style=\"text-align: right;\">\n",
       "      <th></th>\n",
       "      <th>Number words female</th>\n",
       "      <th>Total words</th>\n",
       "      <th>Number of words lead</th>\n",
       "      <th>Difference in words lead and co-lead</th>\n",
       "      <th>Number of male actors</th>\n",
       "      <th>Year</th>\n",
       "      <th>Number of female actors</th>\n",
       "      <th>Number words male</th>\n",
       "      <th>Gross</th>\n",
       "      <th>Mean Age Male</th>\n",
       "      <th>Mean Age Female</th>\n",
       "      <th>Age Lead</th>\n",
       "      <th>Age Co-Lead</th>\n",
       "      <th>Lead</th>\n",
       "    </tr>\n",
       "  </thead>\n",
       "  <tbody>\n",
       "    <tr>\n",
       "      <th>0</th>\n",
       "      <td>1512</td>\n",
       "      <td>6394</td>\n",
       "      <td>2251.0</td>\n",
       "      <td>343</td>\n",
       "      <td>2</td>\n",
       "      <td>1995</td>\n",
       "      <td>5</td>\n",
       "      <td>2631</td>\n",
       "      <td>142.0</td>\n",
       "      <td>51.500000</td>\n",
       "      <td>42.333333</td>\n",
       "      <td>46.0</td>\n",
       "      <td>65.0</td>\n",
       "      <td>Female</td>\n",
       "    </tr>\n",
       "    <tr>\n",
       "      <th>1</th>\n",
       "      <td>1524</td>\n",
       "      <td>8780</td>\n",
       "      <td>2020.0</td>\n",
       "      <td>1219</td>\n",
       "      <td>9</td>\n",
       "      <td>2001</td>\n",
       "      <td>4</td>\n",
       "      <td>5236</td>\n",
       "      <td>37.0</td>\n",
       "      <td>39.125000</td>\n",
       "      <td>29.333333</td>\n",
       "      <td>58.0</td>\n",
       "      <td>34.0</td>\n",
       "      <td>Male</td>\n",
       "    </tr>\n",
       "    <tr>\n",
       "      <th>2</th>\n",
       "      <td>155</td>\n",
       "      <td>4176</td>\n",
       "      <td>942.0</td>\n",
       "      <td>787</td>\n",
       "      <td>7</td>\n",
       "      <td>1968</td>\n",
       "      <td>1</td>\n",
       "      <td>3079</td>\n",
       "      <td>376.0</td>\n",
       "      <td>42.500000</td>\n",
       "      <td>37.000000</td>\n",
       "      <td>46.0</td>\n",
       "      <td>37.0</td>\n",
       "      <td>Male</td>\n",
       "    </tr>\n",
       "    <tr>\n",
       "      <th>3</th>\n",
       "      <td>1073</td>\n",
       "      <td>9855</td>\n",
       "      <td>3440.0</td>\n",
       "      <td>2623</td>\n",
       "      <td>12</td>\n",
       "      <td>2002</td>\n",
       "      <td>2</td>\n",
       "      <td>5342</td>\n",
       "      <td>19.0</td>\n",
       "      <td>35.222222</td>\n",
       "      <td>21.500000</td>\n",
       "      <td>33.0</td>\n",
       "      <td>23.0</td>\n",
       "      <td>Male</td>\n",
       "    </tr>\n",
       "    <tr>\n",
       "      <th>4</th>\n",
       "      <td>1317</td>\n",
       "      <td>7688</td>\n",
       "      <td>3835.0</td>\n",
       "      <td>3149</td>\n",
       "      <td>8</td>\n",
       "      <td>1988</td>\n",
       "      <td>4</td>\n",
       "      <td>2536</td>\n",
       "      <td>40.0</td>\n",
       "      <td>45.250000</td>\n",
       "      <td>45.000000</td>\n",
       "      <td>36.0</td>\n",
       "      <td>39.0</td>\n",
       "      <td>Male</td>\n",
       "    </tr>\n",
       "  </tbody>\n",
       "</table>\n",
       "</div>"
      ],
      "text/plain": [
       "   Number words female  Total words  Number of words lead  \\\n",
       "0                 1512         6394                2251.0   \n",
       "1                 1524         8780                2020.0   \n",
       "2                  155         4176                 942.0   \n",
       "3                 1073         9855                3440.0   \n",
       "4                 1317         7688                3835.0   \n",
       "\n",
       "   Difference in words lead and co-lead  Number of male actors  Year  \\\n",
       "0                                   343                      2  1995   \n",
       "1                                  1219                      9  2001   \n",
       "2                                   787                      7  1968   \n",
       "3                                  2623                     12  2002   \n",
       "4                                  3149                      8  1988   \n",
       "\n",
       "   Number of female actors  Number words male  Gross  Mean Age Male  \\\n",
       "0                        5               2631  142.0      51.500000   \n",
       "1                        4               5236   37.0      39.125000   \n",
       "2                        1               3079  376.0      42.500000   \n",
       "3                        2               5342   19.0      35.222222   \n",
       "4                        4               2536   40.0      45.250000   \n",
       "\n",
       "   Mean Age Female  Age Lead  Age Co-Lead    Lead  \n",
       "0        42.333333      46.0         65.0  Female  \n",
       "1        29.333333      58.0         34.0    Male  \n",
       "2        37.000000      46.0         37.0    Male  \n",
       "3        21.500000      33.0         23.0    Male  \n",
       "4        45.000000      36.0         39.0    Male  "
      ]
     },
     "execution_count": 226,
     "metadata": {},
     "output_type": "execute_result"
    }
   ],
   "source": [
    "data.head()"
   ]
  },
  {
   "cell_type": "code",
   "execution_count": 227,
   "id": "716e2ef7-bb86-4d77-9d78-ebb2b24eecb1",
   "metadata": {},
   "outputs": [],
   "source": [
    "years = np.unique(data['Year']) # create array of years for which we have data\n",
    "years = years[years > 1980] # Start from 1981, before there is not so much data"
   ]
  },
  {
   "cell_type": "code",
   "execution_count": 228,
   "id": "45452a5f-9a8b-4ca3-800a-5d65b07682db",
   "metadata": {},
   "outputs": [],
   "source": [
    "years_dict = {'Year': years} # create array of years for which we have data\n",
    "years_df = pd.DataFrame(data=years_dict) # create a dataframe with a first column 'Year'\n",
    "years_df.set_index('Year');"
   ]
  },
  {
   "cell_type": "code",
   "execution_count": 229,
   "id": "c0045205-17e6-4632-a00e-f9d046bb3a60",
   "metadata": {},
   "outputs": [],
   "source": [
    "# Populate years_df with leads by gender by year\n",
    "male_leads_per_year = []\n",
    "female_leads_per_year = []\n",
    "for year in years:\n",
    "    years_lead_index = data[(data['Year'] == year)].index\n",
    "    num_movies = len(data.iloc[years_lead_index])\n",
    "    try:\n",
    "        male_leads_per_year.append(data.iloc[years_lead_index].Lead.value_counts().Male)\n",
    "    except AttributeError: # If there are no Male leads that year\n",
    "        male_leads_per_year.append(0)\n",
    "    \n",
    "    female_leads_per_year.append((num_movies - male_leads_per_year[-1])/num_movies)\n",
    "    male_leads_per_year[-1] = male_leads_per_year[-1] / num_movies\n",
    "\n",
    "years_df['Female lead %'] = female_leads_per_year\n",
    "years_df['Male lead %'] = male_leads_per_year"
   ]
  },
  {
   "cell_type": "code",
   "execution_count": 230,
   "id": "3b450b37-2f5e-4a0c-82c3-0457a4673ef5",
   "metadata": {},
   "outputs": [
    {
     "data": {
      "image/png": "[encoded data removed]",
      "text/plain": [
       "<Figure size 360x360 with 1 Axes>"
      ]
     },
     "metadata": {},
     "output_type": "display_data"
    }
   ],
   "source": [
    "a_plot = sns.relplot(data=years_df, x=years_df['Year'], y='Male lead %', kind='line');\n",
    "a_plot.set(xlim=(1980,2015), ylim=(0,1))\n",
    "a_plot.ax.axline(xy1=(1980, 0.5), slope=0, color=\"r\", dashes=(5, 2))\n",
    "a_plot.ax.yaxis.set_major_formatter(PercentFormatter(1))"
   ]
  },
  {
   "cell_type": "code",
   "execution_count": null,
   "id": "e2ba4fae-c38f-4c9b-a9dd-2989271d81a3",
   "metadata": {},
   "outputs": [],
   "source": []
  }
 ],
 "metadata": {
  "kernelspec": {
   "display_name": "Python 3 (ipykernel)",
   "language": "python",
   "name": "python3"
  },
  "language_info": {
   "codemirror_mode": {
    "name": "ipython",
    "version": 3
   },
   "file_extension": ".py",
   "mimetype": "text/x-python",
   "name": "python",
   "nbconvert_exporter": "python",
   "pygments_lexer": "ipython3",
   "version": "3.8.12"
  }
 },
 "nbformat": 4,
 "nbformat_minor": 5
}
