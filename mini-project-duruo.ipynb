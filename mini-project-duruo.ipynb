{
 "cells": [
  {
   "cell_type": "code",
   "execution_count": 1,
   "id": "9cc9b89e",
   "metadata": {},
   "outputs": [],
   "source": [
    "# Explore the methods (decision tree, random forests, bagging, and AdaBoost, gradient boost) for actor classification."
   ]
  },
  {
   "cell_type": "code",
   "execution_count": 236,
   "id": "2d52c7f2",
   "metadata": {},
   "outputs": [],
   "source": [
    "# import libraries\n",
    "import pandas as pd\n",
    "import numpy as np\n",
    "import matplotlib\n",
    "import matplotlib.pyplot as plt\n",
    "\n",
    "import sklearn.preprocessing as skl_pre\n",
    "import sklearn.linear_model as skl_lm\n",
    "import sklearn.discriminant_analysis as skl_da\n",
    "import sklearn.neighbors as skl_nb\n",
    "import sklearn.model_selection as skl_ms\n",
    "\n",
    "import seaborn as sns\n",
    "\n",
    "from sklearn import tree\n",
    "from sklearn.ensemble import IsolationForest, BaggingClassifier, RandomForestClassifier, AdaBoostClassifier, GradientBoostingClassifier\n",
    "from sklearn.metrics import classification_report\n",
    "from sklearn import preprocessing\n",
    "from sklearn.covariance import EllipticEnvelope\n",
    "from sklearn.neighbors import LocalOutlierFactor\n",
    "from sklearn.svm import OneClassSVM\n",
    "from sklearn.model_selection import StratifiedKFold\n",
    "from statistics import mean, stdev\n",
    "from sklearn.model_selection import StratifiedKFold\n",
    "\n",
    "import warnings\n",
    "warnings.filterwarnings(\"ignore\")\n",
    "\n",
    "#import graphviz"
   ]
  },
  {
   "cell_type": "code",
   "execution_count": 200,
   "id": "c7479b9f",
   "metadata": {},
   "outputs": [
    {
     "name": "stdout",
     "output_type": "stream",
     "text": [
      "0\n",
      "1\n",
      "2\n",
      "3\n",
      "4\n",
      "5\n",
      "6\n",
      "7\n",
      "8\n",
      "9\n"
     ]
    },
    {
     "data": {
      "image/png": "[encoded data removed]",
      "text/plain": [
       "<Figure size 432x288 with 1 Axes>"
      ]
     },
     "metadata": {
      "needs_background": "light"
     },
     "output_type": "display_data"
    },
    {
     "name": "stdout",
     "output_type": "stream",
     "text": [
      "\n",
      "List of possible accuracy 1:\n",
      "Maximum Accuracy That can be obtained from this model is: 82.6923076923077 %\n",
      "Minimum Accuracy: 74.03846153846155 %\n",
      "Overall Accuracy: 77.768857356236 %\n",
      "Standard Deviation is: 0.02868206552117611\n",
      "\n",
      "List of possible accuracy 2:\n",
      "Maximum Accuracy That can be obtained from this model is: 80.76923076923077 %\n",
      "Minimum Accuracy: 74.03846153846155 %\n",
      "Overall Accuracy: 77.76512322628828 %\n",
      "Standard Deviation is: 0.025211822691360748\n",
      "\n",
      "List of possible accuracy 3:\n",
      "Maximum Accuracy That can be obtained from this model is: 83.65384615384616 %\n",
      "Minimum Accuracy: 74.03846153846155 %\n",
      "Overall Accuracy: 79.11781179985063 %\n",
      "Standard Deviation is: 0.03343707387010802\n",
      "\n",
      "List of possible accuracy 4:\n",
      "Maximum Accuracy That can be obtained from this model is: 84.46601941747572 %\n",
      "Minimum Accuracy: 75.0 %\n",
      "Overall Accuracy: 79.1196788648245 %\n",
      "Standard Deviation is: 0.029085694100787186\n"
     ]
    }
   ],
   "source": [
    "#################\n",
    "# Decision Tree #\n",
    "#################\n",
    "\n",
    "# Load train.csv\n",
    "csv = pd.read_csv('train.csv')\n",
    "\n",
    "# Total words, 'Number of words lead', 'Year', 'Gross', 'Number of words lead', 'Mean Age Male', 'Mean Age Female'\n",
    "X_csv = csv.drop(columns=['Lead', 'Total words'])\n",
    "y_csv = csv['Lead']\n",
    "\n",
    "n_fold = 10\n",
    "max_depth_dt = 20\n",
    "\n",
    "accuracy = np.zeros((n_fold, 4))\n",
    "\n",
    "# Create StratifiedKFold object.\n",
    "skf = StratifiedKFold(n_splits=n_fold, shuffle=True, random_state=1)\n",
    "lst_accu_stratified_1 = []\n",
    "lst_accu_stratified_2 = []\n",
    "lst_accu_stratified_3 = []\n",
    "lst_accu_stratified_4 = []\n",
    "\n",
    "for i, (train_index, val_index) in enumerate(skf.split(X_csv, y_csv)):\n",
    "    \n",
    "    print(i)\n",
    "    \n",
    "    X_train, X_val = X_csv.iloc[train_index], X_csv.iloc[val_index]\n",
    "    y_train, y_val = y_csv.iloc[train_index], y_csv.iloc[val_index]\n",
    "    \n",
    "#     print(X_train.shape, y_train.shape)\n",
    "#     print(X_val.shape, y_val.shape)\n",
    "    \n",
    "    # 1. Data Normalization\n",
    "    X_train_normalized = preprocessing.normalize(X_train)\n",
    "    # 2. Data Standardization\n",
    "    X_train_standardized = preprocessing.scale(X_train)\n",
    "\n",
    "    X_train_active = X_train_normalized\n",
    "    \n",
    "    X_val_normalized = preprocessing.normalize(X_val)\n",
    "    X_val_standardized = preprocessing.scale(X_val)\n",
    "    \n",
    "    X_val_active = X_val_normalized\n",
    "    \n",
    "    # 1. Isolation Forest\n",
    "    iso = IsolationForest(contamination=0.02)\n",
    "    yhat = iso.fit_predict(X_train_active)\n",
    "    mask = yhat != -1\n",
    "    X_train_ol_1, y_train_ol_1 = X_train_active[mask, :], y_train[mask]\n",
    "    #print(X_train_ol_1.shape, y_train_ol_1.shape)\n",
    "\n",
    "    model_dt_1 = tree.DecisionTreeClassifier(max_depth=max_depth_dt)\n",
    "    model_dt_1.fit(X=X_train_ol_1, y=y_train_ol_1)\n",
    "    y_predict_1 = model_dt_1.predict(X_val_active)\n",
    "    \n",
    "    accuracy[i, 0] = np.mean(y_predict_1 == y_val)\n",
    "    lst_accu_stratified_1.append(model_dt_1.score(X_val_active, y_val))\n",
    "\n",
    "    # 2. Minimum Covariance Determinant\n",
    "    ee = EllipticEnvelope(contamination=0.02)\n",
    "    yhat = ee.fit_predict(X_train_active)\n",
    "    mask = yhat != -1\n",
    "    X_train_ol_2, y_train_ol_2 = X_train_active[mask, :], y_train[mask]\n",
    "    #print(X_train_ol_2.shape, y_train_ol_2.shape)\n",
    "\n",
    "    model_dt_2 = tree.DecisionTreeClassifier(max_depth=max_depth_dt)\n",
    "    model_dt_2.fit(X=X_train_ol_2, y=y_train_ol_2)\n",
    "    y_predict_2 = model_dt_2.predict(X_val_active)\n",
    "    \n",
    "    accuracy[i, 1] = np.mean(y_predict_2 == y_val)\n",
    "    lst_accu_stratified_2.append(model_dt_2.score(X_val_active, y_val))\n",
    "\n",
    "    # 3. Local Outlier Factor\n",
    "    lof = LocalOutlierFactor(contamination=0.02)\n",
    "    yhat = lof.fit_predict(X_train_active)\n",
    "    mask = yhat != -1\n",
    "    X_train_ol_3, y_train_ol_3 = X_train_active[mask, :], y_train[mask]\n",
    "    #print(X_train_ol_3.shape, y_train_ol_3.shape)\n",
    "\n",
    "    model_dt_3 = tree.DecisionTreeClassifier(max_depth=max_depth_dt)\n",
    "    model_dt_3.fit(X=X_train_ol_3, y=y_train_ol_3)\n",
    "    y_predict_3 = model_dt_3.predict(X_val_active)\n",
    "    \n",
    "    accuracy[i, 2] = np.mean(y_predict_3 == y_val)\n",
    "    lst_accu_stratified_3.append(model_dt_3.score(X_val_active, y_val))\n",
    "    \n",
    "    # 4. One-Class SVM\n",
    "    ee = OneClassSVM(nu=0.02)\n",
    "    yhat = ee.fit_predict(X_train_active)\n",
    "    mask = yhat != -1\n",
    "    X_train_ol_4, y_train_ol_4 = X_train_active[mask, :], y_train[mask]\n",
    "    #print(X_train_ol_4.shape, y_train_ol_4.shape)\n",
    "    \n",
    "    model_dt_4 = tree.DecisionTreeClassifier(max_depth=max_depth_dt)\n",
    "    model_dt_4.fit(X=X_train_ol_4, y=y_train_ol_4)\n",
    "    y_predict_4 = model_dt_4.predict(X_val_active)\n",
    "    \n",
    "    accuracy[i, 3] = np.mean(y_predict_4 == y_val)\n",
    "    lst_accu_stratified_4.append(model_dt_4.score(X_val_active, y_val))\n",
    "    \n",
    "\n",
    "    \n",
    "plt.boxplot(accuracy)\n",
    "plt.title('Corss validation accuracy for decision tree')\n",
    "plt.xticks(np.arange(4) + 1, ('1', '2', '3', '4'))\n",
    "plt.ylabel('accuracy')\n",
    "plt.show()\n",
    "    \n",
    "# Print the output.\n",
    "print('\\nList of possible accuracy 1:')\n",
    "print('Maximum Accuracy That can be obtained from this model is:',\n",
    "      max(lst_accu_stratified_1)*100, '%')\n",
    "print('Minimum Accuracy:',\n",
    "      min(lst_accu_stratified_1)*100, '%')\n",
    "print('Overall Accuracy:',\n",
    "      mean(lst_accu_stratified_1)*100, '%')\n",
    "print('Standard Deviation is:', stdev(lst_accu_stratified_1))\n",
    "\n",
    "print('\\nList of possible accuracy 2:')\n",
    "print('Maximum Accuracy That can be obtained from this model is:',\n",
    "      max(lst_accu_stratified_2)*100, '%')\n",
    "print('Minimum Accuracy:',\n",
    "      min(lst_accu_stratified_2)*100, '%')\n",
    "print('Overall Accuracy:',\n",
    "      mean(lst_accu_stratified_2)*100, '%')\n",
    "print('Standard Deviation is:', stdev(lst_accu_stratified_2))\n",
    "\n",
    "print('\\nList of possible accuracy 3:')\n",
    "print('Maximum Accuracy That can be obtained from this model is:',\n",
    "      max(lst_accu_stratified_3)*100, '%')\n",
    "print('Minimum Accuracy:',\n",
    "      min(lst_accu_stratified_3)*100, '%')\n",
    "print('Overall Accuracy:',\n",
    "      mean(lst_accu_stratified_3)*100, '%')\n",
    "print('Standard Deviation is:', stdev(lst_accu_stratified_3))\n",
    "\n",
    "print('\\nList of possible accuracy 4:')\n",
    "print('Maximum Accuracy That can be obtained from this model is:',\n",
    "      max(lst_accu_stratified_4)*100, '%')\n",
    "print('Minimum Accuracy:',\n",
    "      min(lst_accu_stratified_4)*100, '%')\n",
    "print('Overall Accuracy:',\n",
    "      mean(lst_accu_stratified_4)*100, '%')\n",
    "print('Standard Deviation is:', stdev(lst_accu_stratified_4))"
   ]
  },
  {
   "cell_type": "code",
   "execution_count": 204,
   "id": "a13c1691",
   "metadata": {},
   "outputs": [
    {
     "name": "stdout",
     "output_type": "stream",
     "text": [
      "0\n",
      "1\n",
      "2\n",
      "3\n",
      "4\n",
      "5\n",
      "6\n",
      "7\n",
      "8\n",
      "9\n"
     ]
    },
    {
     "data": {
      "image/png": "[encoded data removed]",
      "text/plain": [
       "<Figure size 432x288 with 1 Axes>"
      ]
     },
     "metadata": {
      "needs_background": "light"
     },
     "output_type": "display_data"
    },
    {
     "name": "stdout",
     "output_type": "stream",
     "text": [
      "\n",
      "List of possible accuracy 1:\n",
      "Maximum Accuracy That can be obtained from this model is: 93.20388349514563 %\n",
      "Minimum Accuracy: 83.65384615384616 %\n",
      "Overall Accuracy: 87.68577296489917 %\n",
      "Standard Deviation is: 0.02916768935467474\n",
      "\n",
      "List of possible accuracy 2:\n",
      "Maximum Accuracy That can be obtained from this model is: 91.34615384615384 %\n",
      "Minimum Accuracy: 83.65384615384616 %\n",
      "Overall Accuracy: 87.67923823749067 %\n",
      "Standard Deviation is: 0.02124660146665896\n",
      "\n",
      "List of possible accuracy 3:\n",
      "Maximum Accuracy That can be obtained from this model is: 89.42307692307693 %\n",
      "Minimum Accuracy: 84.61538461538461 %\n",
      "Overall Accuracy: 86.72050037341299 %\n",
      "Standard Deviation is: 0.018965100450631874\n",
      "\n",
      "List of possible accuracy 4:\n",
      "Maximum Accuracy That can be obtained from this model is: 89.42307692307693 %\n",
      "Minimum Accuracy: 83.65384615384616 %\n",
      "Overall Accuracy: 86.91094100074682 %\n",
      "Standard Deviation is: 0.020337512244850437\n"
     ]
    }
   ],
   "source": [
    "###########\n",
    "# Bagging #\n",
    "###########\n",
    "\n",
    "# Load train.csv\n",
    "csv = pd.read_csv('train.csv')\n",
    "\n",
    "# 'Number of words lead', 'Year', 'Gross', 'Number of words lead', 'Mean Age Male', 'Mean Age Female'\n",
    "X_csv = csv.drop(columns=['Lead'])\n",
    "y_csv = csv['Lead']\n",
    "\n",
    "n_fold = 10\n",
    "n_estimators_bag = 150\n",
    "\n",
    "accuracy = np.zeros((n_fold, 4))\n",
    "\n",
    "# Create StratifiedKFold object.\n",
    "skf = StratifiedKFold(n_splits=n_fold, shuffle=True, random_state=1)\n",
    "lst_accu_stratified_1 = []\n",
    "lst_accu_stratified_2 = []\n",
    "lst_accu_stratified_3 = []\n",
    "lst_accu_stratified_4 = []\n",
    "\n",
    "for i, (train_index, val_index) in enumerate(skf.split(X_csv, y_csv)):\n",
    "    \n",
    "    print(i)\n",
    "    \n",
    "    X_train, X_val = X_csv.iloc[train_index], X_csv.iloc[val_index]\n",
    "    y_train, y_val = y_csv.iloc[train_index], y_csv.iloc[val_index]\n",
    "    \n",
    "#     print(X_train.shape, y_train.shape)\n",
    "#     print(X_val.shape, y_val.shape)\n",
    "    \n",
    "    # 1. Data Normalization\n",
    "    X_train_normalized = preprocessing.normalize(X_train)\n",
    "    # 2. Data Standardization\n",
    "    X_train_standardized = preprocessing.scale(X_train)\n",
    "\n",
    "    X_train_active = X_train_normalized\n",
    "    \n",
    "    X_val_normalized = preprocessing.normalize(X_val)\n",
    "    X_val_standardized = preprocessing.scale(X_val)\n",
    "    \n",
    "    X_val_active = X_val_normalized\n",
    "    \n",
    "    # 1. Isolation Forest\n",
    "    iso = IsolationForest(contamination=0.02)\n",
    "    yhat = iso.fit_predict(X_train_active)\n",
    "    mask = yhat != -1\n",
    "    X_train_ol_1, y_train_ol_1 = X_train_active[mask, :], y_train[mask]\n",
    "    #print(X_train_ol_1.shape, y_train_ol_1.shape)\n",
    "\n",
    "    model_bag_1 = BaggingClassifier(n_estimators=n_estimators_bag)\n",
    "    model_bag_1.fit(X=X_train_ol_1, y=y_train_ol_1)\n",
    "    y_predict_1 = model_bag_1.predict(X_val_active)\n",
    "    \n",
    "    accuracy[i, 0] = np.mean(y_predict_1 == y_val)\n",
    "    lst_accu_stratified_1.append(model_bag_1.score(X_val_active, y_val))\n",
    "\n",
    "    # 2. Minimum Covariance Determinant\n",
    "    ee = EllipticEnvelope(contamination=0.02)\n",
    "    yhat = ee.fit_predict(X_train_active)\n",
    "    mask = yhat != -1\n",
    "    X_train_ol_2, y_train_ol_2 = X_train_active[mask, :], y_train[mask]\n",
    "    #print(X_train_ol_2.shape, y_train_ol_2.shape)\n",
    "\n",
    "    model_bag_2 = BaggingClassifier(n_estimators=n_estimators_bag)\n",
    "    model_bag_2.fit(X=X_train_ol_2, y=y_train_ol_2)\n",
    "    y_predict_2 = model_bag_2.predict(X_val_active)\n",
    "    \n",
    "    accuracy[i, 1] = np.mean(y_predict_2 == y_val)\n",
    "    lst_accu_stratified_2.append(model_bag_2.score(X_val_active, y_val))\n",
    "\n",
    "    # 3. Local Outlier Factor\n",
    "    lof = LocalOutlierFactor(contamination=0.02)\n",
    "    yhat = lof.fit_predict(X_train_active)\n",
    "    mask = yhat != -1\n",
    "    X_train_ol_3, y_train_ol_3 = X_train_active[mask, :], y_train[mask]\n",
    "    #print(X_train_ol_3.shape, y_train_ol_3.shape)\n",
    "\n",
    "    model_bag_3 = BaggingClassifier(n_estimators=n_estimators_bag)\n",
    "    model_bag_3.fit(X=X_train_ol_3, y=y_train_ol_3)\n",
    "    y_predict_3 = model_bag_3.predict(X_val_active)\n",
    "    \n",
    "    accuracy[i, 2] = np.mean(y_predict_3 == y_val)\n",
    "    lst_accu_stratified_3.append(model_bag_3.score(X_val_active, y_val))\n",
    "    \n",
    "    # 4. One-Class SVM\n",
    "    ee = OneClassSVM(nu=0.02)\n",
    "    yhat = ee.fit_predict(X_train_active)\n",
    "    mask = yhat != -1\n",
    "    X_train_ol_4, y_train_ol_4 = X_train_active[mask, :], y_train[mask]\n",
    "    #print(X_train_ol_4.shape, y_train_ol_4.shape)\n",
    "    \n",
    "    model_bag_4 = BaggingClassifier(n_estimators=n_estimators_bag)\n",
    "    model_bag_4.fit(X=X_train_ol_4, y=y_train_ol_4)\n",
    "    y_predict_4 = model_bag_4.predict(X_val_active)\n",
    "    \n",
    "    accuracy[i, 3] = np.mean(y_predict_4 == y_val)\n",
    "    lst_accu_stratified_4.append(model_bag_4.score(X_val_active, y_val))\n",
    "    \n",
    "\n",
    "    \n",
    "plt.boxplot(accuracy)\n",
    "plt.title('Corss validation accuracy for bagging')\n",
    "plt.xticks(np.arange(4) + 1, ('1', '2', '3', '4'))\n",
    "plt.ylabel('accuracy')\n",
    "plt.show()\n",
    "    \n",
    "# Print the output.\n",
    "print('\\nList of possible accuracy 1:')\n",
    "print('Maximum Accuracy That can be obtained from this model is:',\n",
    "      max(lst_accu_stratified_1)*100, '%')\n",
    "print('Minimum Accuracy:',\n",
    "      min(lst_accu_stratified_1)*100, '%')\n",
    "print('Overall Accuracy:',\n",
    "      mean(lst_accu_stratified_1)*100, '%')\n",
    "print('Standard Deviation is:', stdev(lst_accu_stratified_1))\n",
    "\n",
    "print('\\nList of possible accuracy 2:')\n",
    "print('Maximum Accuracy That can be obtained from this model is:',\n",
    "      max(lst_accu_stratified_2)*100, '%')\n",
    "print('Minimum Accuracy:',\n",
    "      min(lst_accu_stratified_2)*100, '%')\n",
    "print('Overall Accuracy:',\n",
    "      mean(lst_accu_stratified_2)*100, '%')\n",
    "print('Standard Deviation is:', stdev(lst_accu_stratified_2))\n",
    "\n",
    "print('\\nList of possible accuracy 3:')\n",
    "print('Maximum Accuracy That can be obtained from this model is:',\n",
    "      max(lst_accu_stratified_3)*100, '%')\n",
    "print('Minimum Accuracy:',\n",
    "      min(lst_accu_stratified_3)*100, '%')\n",
    "print('Overall Accuracy:',\n",
    "      mean(lst_accu_stratified_3)*100, '%')\n",
    "print('Standard Deviation is:', stdev(lst_accu_stratified_3))\n",
    "\n",
    "print('\\nList of possible accuracy 4:')\n",
    "print('Maximum Accuracy That can be obtained from this model is:',\n",
    "      max(lst_accu_stratified_4)*100, '%')\n",
    "print('Minimum Accuracy:',\n",
    "      min(lst_accu_stratified_4)*100, '%')\n",
    "print('Overall Accuracy:',\n",
    "      mean(lst_accu_stratified_4)*100, '%')\n",
    "print('Standard Deviation is:', stdev(lst_accu_stratified_4))\n"
   ]
  },
  {
   "cell_type": "code",
   "execution_count": 220,
   "id": "cedfe5ed",
   "metadata": {},
   "outputs": [
    {
     "name": "stdout",
     "output_type": "stream",
     "text": [
      "0\n",
      "1\n",
      "2\n",
      "3\n",
      "4\n",
      "5\n",
      "6\n",
      "7\n",
      "8\n",
      "9\n"
     ]
    },
    {
     "data": {
      "image/png": "[encoded data removed]",
      "text/plain": [
       "<Figure size 432x288 with 1 Axes>"
      ]
     },
     "metadata": {
      "needs_background": "light"
     },
     "output_type": "display_data"
    },
    {
     "name": "stdout",
     "output_type": "stream",
     "text": [
      "\n",
      "List of possible accuracy 1:\n",
      "Maximum Accuracy That can be obtained from this model is: 91.34615384615384 %\n",
      "Minimum Accuracy: 83.65384615384616 %\n",
      "Overall Accuracy: 87.49159820761763 %\n",
      "Standard Deviation is: 0.02668311915381308\n",
      "\n",
      "List of possible accuracy 2:\n",
      "Maximum Accuracy That can be obtained from this model is: 91.2621359223301 %\n",
      "Minimum Accuracy: 84.61538461538461 %\n",
      "Overall Accuracy: 87.10698282300224 %\n",
      "Standard Deviation is: 0.0196633869571399\n",
      "\n",
      "List of possible accuracy 3:\n",
      "Maximum Accuracy That can be obtained from this model is: 91.2621359223301 %\n",
      "Minimum Accuracy: 84.61538461538461 %\n",
      "Overall Accuracy: 87.68390589992532 %\n",
      "Standard Deviation is: 0.021003445977138088\n",
      "\n",
      "List of possible accuracy 4:\n",
      "Maximum Accuracy That can be obtained from this model is: 91.34615384615384 %\n",
      "Minimum Accuracy: 84.61538461538461 %\n",
      "Overall Accuracy: 88.06852128454071 %\n",
      "Standard Deviation is: 0.02307084516802744\n"
     ]
    }
   ],
   "source": [
    "#################\n",
    "# Random Forest #\n",
    "#################\n",
    "\n",
    "# Best performance: n_estimators_gb = 200, drop 'Total words', 'Gross', 'Year', normalized, One-Class SVM outlier removal.\n",
    "\n",
    "# Load train.csv\n",
    "csv = pd.read_csv('train.csv')\n",
    "\n",
    "# 'Total words', 'Number of words lead', 'Year', 'Gross', 'Number of words lead', 'Mean Age Male', 'Mean Age Female'\n",
    "X_csv = csv.drop(columns=['Lead', 'Total words', 'Gross', 'Year'])\n",
    "y_csv = csv['Lead']\n",
    "\n",
    "n_fold = 10\n",
    "n_estimators_rf = 200\n",
    "max_depth_rf = None\n",
    "\n",
    "accuracy = np.zeros((n_fold, 4))\n",
    "\n",
    "# Create StratifiedKFold object.\n",
    "skf = StratifiedKFold(n_splits=n_fold, shuffle=True, random_state=1)\n",
    "lst_accu_stratified_1 = []\n",
    "lst_accu_stratified_2 = []\n",
    "lst_accu_stratified_3 = []\n",
    "lst_accu_stratified_4 = []\n",
    "\n",
    "for i, (train_index, val_index) in enumerate(skf.split(X_csv, y_csv)):\n",
    "    \n",
    "    print(i)\n",
    "    \n",
    "    X_train, X_val = X_csv.iloc[train_index], X_csv.iloc[val_index]\n",
    "    y_train, y_val = y_csv.iloc[train_index], y_csv.iloc[val_index]\n",
    "    \n",
    "#     print(X_train.shape, y_train.shape)\n",
    "#     print(X_val.shape, y_val.shape)\n",
    "    \n",
    "    # 1. Data Normalization\n",
    "    X_train_normalized = preprocessing.normalize(X_train)\n",
    "    # 2. Data Standardization\n",
    "    X_train_standardized = preprocessing.scale(X_train)\n",
    "\n",
    "    X_train_active = X_train_normalized\n",
    "    \n",
    "    X_val_normalized = preprocessing.normalize(X_val)\n",
    "    X_val_standardized = preprocessing.scale(X_val)\n",
    "    \n",
    "    X_val_active = X_val_normalized\n",
    "    \n",
    "    # 1. Isolation Forest\n",
    "    iso = IsolationForest(contamination=0.02)\n",
    "    yhat = iso.fit_predict(X_train_active)\n",
    "    mask = yhat != -1\n",
    "    X_train_ol_1, y_train_ol_1 = X_train_active[mask, :], y_train[mask]\n",
    "    #print(X_train_ol_1.shape, y_train_ol_1.shape)\n",
    "\n",
    "    model_rf_1 = RandomForestClassifier(n_estimators=n_estimators_rf, max_depth=max_depth_rf)\n",
    "    model_rf_1.fit(X=X_train_ol_1, y=y_train_ol_1)\n",
    "    y_predict_1 = model_rf_1.predict(X_val_active)\n",
    "    \n",
    "    accuracy[i, 0] = np.mean(y_predict_1 == y_val)\n",
    "    lst_accu_stratified_1.append(model_rf_1.score(X_val_active, y_val))\n",
    "\n",
    "    # 2. Minimum Covariance Determinant\n",
    "    ee = EllipticEnvelope(contamination=0.02)\n",
    "    yhat = ee.fit_predict(X_train_active)\n",
    "    mask = yhat != -1\n",
    "    X_train_ol_2, y_train_ol_2 = X_train_active[mask, :], y_train[mask]\n",
    "    #print(X_train_ol_2.shape, y_train_ol_2.shape)\n",
    "\n",
    "    model_rf_2 = RandomForestClassifier(n_estimators=n_estimators_rf, max_depth=max_depth_rf)\n",
    "    model_rf_2.fit(X=X_train_ol_2, y=y_train_ol_2)\n",
    "    y_predict_2 = model_rf_2.predict(X_val_active)\n",
    "    \n",
    "    accuracy[i, 1] = np.mean(y_predict_2 == y_val)\n",
    "    lst_accu_stratified_2.append(model_rf_2.score(X_val_active, y_val))\n",
    "\n",
    "    # 3. Local Outlier Factor\n",
    "    lof = LocalOutlierFactor(contamination=0.02)\n",
    "    yhat = lof.fit_predict(X_train_active)\n",
    "    mask = yhat != -1\n",
    "    X_train_ol_3, y_train_ol_3 = X_train_active[mask, :], y_train[mask]\n",
    "    #print(X_train_ol_3.shape, y_train_ol_3.shape)\n",
    "\n",
    "    model_rf_3 = RandomForestClassifier(n_estimators=n_estimators_rf, max_depth=max_depth_rf)\n",
    "    model_rf_3.fit(X=X_train_ol_3, y=y_train_ol_3)\n",
    "    y_predict_3 = model_rf_3.predict(X_val_active)\n",
    "    \n",
    "    accuracy[i, 2] = np.mean(y_predict_3 == y_val)\n",
    "    lst_accu_stratified_3.append(model_rf_3.score(X_val_active, y_val))\n",
    "    \n",
    "    # 4. One-Class SVM\n",
    "    ee = OneClassSVM(nu=0.02)\n",
    "    yhat = ee.fit_predict(X_train_active)\n",
    "    mask = yhat != -1\n",
    "    X_train_ol_4, y_train_ol_4 = X_train_active[mask, :], y_train[mask]\n",
    "    #print(X_train_ol_4.shape, y_train_ol_4.shape)\n",
    "    \n",
    "    model_rf_4 = RandomForestClassifier(n_estimators=n_estimators_rf, max_depth=max_depth_rf)\n",
    "    model_rf_4.fit(X=X_train_ol_4, y=y_train_ol_4)\n",
    "    y_predict_4 = model_rf_4.predict(X_val_active)\n",
    "    \n",
    "    accuracy[i, 3] = np.mean(y_predict_4 == y_val)\n",
    "    lst_accu_stratified_4.append(model_rf_4.score(X_val_active, y_val))\n",
    "    \n",
    "\n",
    "    \n",
    "plt.boxplot(accuracy)\n",
    "plt.title('Corss validation accuracy for random forest')\n",
    "plt.xticks(np.arange(4) + 1, ('1', '2', '3', '4'))\n",
    "plt.ylabel('accuracy')\n",
    "plt.show()\n",
    "    \n",
    "# Print the output.\n",
    "print('\\nList of possible accuracy 1:')\n",
    "print('Maximum Accuracy That can be obtained from this model is:',\n",
    "      max(lst_accu_stratified_1)*100, '%')\n",
    "print('Minimum Accuracy:',\n",
    "      min(lst_accu_stratified_1)*100, '%')\n",
    "print('Overall Accuracy:',\n",
    "      mean(lst_accu_stratified_1)*100, '%')\n",
    "print('Standard Deviation is:', stdev(lst_accu_stratified_1))\n",
    "\n",
    "print('\\nList of possible accuracy 2:')\n",
    "print('Maximum Accuracy That can be obtained from this model is:',\n",
    "      max(lst_accu_stratified_2)*100, '%')\n",
    "print('Minimum Accuracy:',\n",
    "      min(lst_accu_stratified_2)*100, '%')\n",
    "print('Overall Accuracy:',\n",
    "      mean(lst_accu_stratified_2)*100, '%')\n",
    "print('Standard Deviation is:', stdev(lst_accu_stratified_2))\n",
    "\n",
    "print('\\nList of possible accuracy 3:')\n",
    "print('Maximum Accuracy That can be obtained from this model is:',\n",
    "      max(lst_accu_stratified_3)*100, '%')\n",
    "print('Minimum Accuracy:',\n",
    "      min(lst_accu_stratified_3)*100, '%')\n",
    "print('Overall Accuracy:',\n",
    "      mean(lst_accu_stratified_3)*100, '%')\n",
    "print('Standard Deviation is:', stdev(lst_accu_stratified_3))\n",
    "\n",
    "print('\\nList of possible accuracy 4:')\n",
    "print('Maximum Accuracy That can be obtained from this model is:',\n",
    "      max(lst_accu_stratified_4)*100, '%')\n",
    "print('Minimum Accuracy:',\n",
    "      min(lst_accu_stratified_4)*100, '%')\n",
    "print('Overall Accuracy:',\n",
    "      mean(lst_accu_stratified_4)*100, '%')\n",
    "print('Standard Deviation is:', stdev(lst_accu_stratified_4))"
   ]
  },
  {
   "cell_type": "code",
   "execution_count": 235,
   "id": "4e80ff1e",
   "metadata": {},
   "outputs": [
    {
     "name": "stdout",
     "output_type": "stream",
     "text": [
      "0\n",
      "1\n",
      "2\n",
      "3\n",
      "4\n",
      "5\n",
      "6\n",
      "7\n",
      "8\n",
      "9\n"
     ]
    },
    {
     "data": {
      "image/png": "[encoded data removed]",
      "text/plain": [
       "<Figure size 432x288 with 1 Axes>"
      ]
     },
     "metadata": {
      "needs_background": "light"
     },
     "output_type": "display_data"
    },
    {
     "name": "stdout",
     "output_type": "stream",
     "text": [
      "\n",
      "List of possible accuracy 1:\n",
      "Maximum Accuracy That can be obtained from this model is: 90.29126213592234 %\n",
      "Minimum Accuracy: 82.6923076923077 %\n",
      "Overall Accuracy: 87.1060492905153 %\n",
      "Standard Deviation is: 0.024356504848763175\n",
      "\n",
      "List of possible accuracy 2:\n",
      "Maximum Accuracy That can be obtained from this model is: 91.34615384615384 %\n",
      "Minimum Accuracy: 80.76923076923077 %\n",
      "Overall Accuracy: 87.10698282300224 %\n",
      "Standard Deviation is: 0.037051883629740344\n",
      "\n",
      "List of possible accuracy 3:\n",
      "Maximum Accuracy That can be obtained from this model is: 91.34615384615384 %\n",
      "Minimum Accuracy: 83.65384615384616 %\n",
      "Overall Accuracy: 87.87528005974607 %\n",
      "Standard Deviation is: 0.02970647776484783\n",
      "\n",
      "List of possible accuracy 4:\n",
      "Maximum Accuracy That can be obtained from this model is: 92.3076923076923 %\n",
      "Minimum Accuracy: 85.57692307692307 %\n",
      "Overall Accuracy: 89.41560866318147 %\n",
      "Standard Deviation is: 0.02514328799342205\n"
     ]
    }
   ],
   "source": [
    "############\n",
    "# AdaBoost #\n",
    "############\n",
    "\n",
    "# Load train.csv\n",
    "csv = pd.read_csv('train.csv')\n",
    "\n",
    "# 'Number of words lead', 'Year', 'Gross', 'Number of words lead', 'Mean Age Male', 'Mean Age Female'\n",
    "X_csv = csv.drop(columns=['Lead', 'Mean Age Male', 'Gross', 'Year'])\n",
    "y_csv = csv['Lead']\n",
    "\n",
    "n_fold = 10\n",
    "n_estimators_ada = 150\n",
    "\n",
    "accuracy = np.zeros((n_fold, 4))\n",
    "\n",
    "# Create StratifiedKFold object.\n",
    "skf = StratifiedKFold(n_splits=n_fold, shuffle=True, random_state=1)\n",
    "lst_accu_stratified_1 = []\n",
    "lst_accu_stratified_2 = []\n",
    "lst_accu_stratified_3 = []\n",
    "lst_accu_stratified_4 = []\n",
    "\n",
    "for i, (train_index, val_index) in enumerate(skf.split(X_csv, y_csv)):\n",
    "    \n",
    "    print(i)\n",
    "    \n",
    "    X_train, X_val = X_csv.iloc[train_index], X_csv.iloc[val_index]\n",
    "    y_train, y_val = y_csv.iloc[train_index], y_csv.iloc[val_index]\n",
    "    \n",
    "#     print(X_train.shape, y_train.shape)\n",
    "#     print(X_val.shape, y_val.shape)\n",
    "    \n",
    "    # 1. Data Normalization\n",
    "    X_train_normalized = preprocessing.normalize(X_train)\n",
    "    # 2. Data Standardization\n",
    "    X_train_standardized = preprocessing.scale(X_train)\n",
    "\n",
    "    X_train_active = X_train_normalized\n",
    "    \n",
    "    X_val_normalized = preprocessing.normalize(X_val)\n",
    "    X_val_standardized = preprocessing.scale(X_val)\n",
    "    \n",
    "    X_val_active = X_val_normalized\n",
    "    \n",
    "    # 1. Isolation Forest\n",
    "    iso = IsolationForest(contamination=0.02)\n",
    "    yhat = iso.fit_predict(X_train_active)\n",
    "    mask = yhat != -1\n",
    "    X_train_ol_1, y_train_ol_1 = X_train_active[mask, :], y_train[mask]\n",
    "    #print(X_train_ol_1.shape, y_train_ol_1.shape)\n",
    "\n",
    "    model_ada_1 = AdaBoostClassifier(n_estimators=n_estimators_ada)\n",
    "    model_ada_1.fit(X=X_train_ol_1, y=y_train_ol_1)\n",
    "    y_predict_1 = model_ada_1.predict(X_val_active)\n",
    "    \n",
    "    accuracy[i, 0] = np.mean(y_predict_1 == y_val)\n",
    "    lst_accu_stratified_1.append(model_ada_1.score(X_val_active, y_val))\n",
    "\n",
    "    # 2. Minimum Covariance Determinant\n",
    "    ee = EllipticEnvelope(contamination=0.02)\n",
    "    yhat = ee.fit_predict(X_train_active)\n",
    "    mask = yhat != -1\n",
    "    X_train_ol_2, y_train_ol_2 = X_train_active[mask, :], y_train[mask]\n",
    "    #print(X_train_ol_2.shape, y_train_ol_2.shape)\n",
    "\n",
    "    model_ada_2 = AdaBoostClassifier(n_estimators=n_estimators_ada)\n",
    "    model_ada_2.fit(X=X_train_ol_2, y=y_train_ol_2)\n",
    "    y_predict_2 = model_ada_2.predict(X_val_active)\n",
    "    \n",
    "    accuracy[i, 1] = np.mean(y_predict_2 == y_val)\n",
    "    lst_accu_stratified_2.append(model_ada_2.score(X_val_active, y_val))\n",
    "\n",
    "    # 3. Local Outlier Factor\n",
    "    lof = LocalOutlierFactor(contamination=0.02)\n",
    "    yhat = lof.fit_predict(X_train_active)\n",
    "    mask = yhat != -1\n",
    "    X_train_ol_3, y_train_ol_3 = X_train_active[mask, :], y_train[mask]\n",
    "    #print(X_train_ol_3.shape, y_train_ol_3.shape)\n",
    "\n",
    "    model_ada_3 = AdaBoostClassifier(n_estimators=n_estimators_ada)\n",
    "    model_ada_3.fit(X=X_train_ol_3, y=y_train_ol_3)\n",
    "    y_predict_3 = model_ada_3.predict(X_val_active)\n",
    "    \n",
    "    accuracy[i, 2] = np.mean(y_predict_3 == y_val)\n",
    "    lst_accu_stratified_3.append(model_ada_3.score(X_val_active, y_val))\n",
    "    \n",
    "    # 4. One-Class SVM\n",
    "    ee = OneClassSVM(nu=0.02)\n",
    "    yhat = ee.fit_predict(X_train_active)\n",
    "    mask = yhat != -1\n",
    "    X_train_ol_4, y_train_ol_4 = X_train_active[mask, :], y_train[mask]\n",
    "    #print(X_train_ol_4.shape, y_train_ol_4.shape)\n",
    "    \n",
    "    model_ada_4 = AdaBoostClassifier(n_estimators=n_estimators_ada)\n",
    "    model_ada_4.fit(X=X_train_ol_4, y=y_train_ol_4)\n",
    "    y_predict_4 = model_ada_4.predict(X_val_active)\n",
    "    \n",
    "    accuracy[i, 3] = np.mean(y_predict_4 == y_val)\n",
    "    lst_accu_stratified_4.append(model_ada_4.score(X_val_active, y_val))\n",
    "    \n",
    "\n",
    "    \n",
    "plt.boxplot(accuracy)\n",
    "plt.title('Corss validation accuracy for adaboost')\n",
    "plt.xticks(np.arange(4) + 1, ('1', '2', '3', '4'))\n",
    "plt.ylabel('accuracy')\n",
    "plt.show()\n",
    "    \n",
    "# Print the output.\n",
    "print('\\nList of possible accuracy 1:')\n",
    "print('Maximum Accuracy That can be obtained from this model is:',\n",
    "      max(lst_accu_stratified_1)*100, '%')\n",
    "print('Minimum Accuracy:',\n",
    "      min(lst_accu_stratified_1)*100, '%')\n",
    "print('Overall Accuracy:',\n",
    "      mean(lst_accu_stratified_1)*100, '%')\n",
    "print('Standard Deviation is:', stdev(lst_accu_stratified_1))\n",
    "\n",
    "print('\\nList of possible accuracy 2:')\n",
    "print('Maximum Accuracy That can be obtained from this model is:',\n",
    "      max(lst_accu_stratified_2)*100, '%')\n",
    "print('Minimum Accuracy:',\n",
    "      min(lst_accu_stratified_2)*100, '%')\n",
    "print('Overall Accuracy:',\n",
    "      mean(lst_accu_stratified_2)*100, '%')\n",
    "print('Standard Deviation is:', stdev(lst_accu_stratified_2))\n",
    "\n",
    "print('\\nList of possible accuracy 3:')\n",
    "print('Maximum Accuracy That can be obtained from this model is:',\n",
    "      max(lst_accu_stratified_3)*100, '%')\n",
    "print('Minimum Accuracy:',\n",
    "      min(lst_accu_stratified_3)*100, '%')\n",
    "print('Overall Accuracy:',\n",
    "      mean(lst_accu_stratified_3)*100, '%')\n",
    "print('Standard Deviation is:', stdev(lst_accu_stratified_3))\n",
    "\n",
    "print('\\nList of possible accuracy 4:')\n",
    "print('Maximum Accuracy That can be obtained from this model is:',\n",
    "      max(lst_accu_stratified_4)*100, '%')\n",
    "print('Minimum Accuracy:',\n",
    "      min(lst_accu_stratified_4)*100, '%')\n",
    "print('Overall Accuracy:',\n",
    "      mean(lst_accu_stratified_4)*100, '%')\n",
    "print('Standard Deviation is:', stdev(lst_accu_stratified_4))"
   ]
  },
  {
   "cell_type": "code",
   "execution_count": 240,
   "id": "541ceeba",
   "metadata": {},
   "outputs": [
    {
     "name": "stdout",
     "output_type": "stream",
     "text": [
      "0\n",
      "1\n",
      "2\n",
      "3\n",
      "4\n",
      "5\n",
      "6\n",
      "7\n",
      "8\n",
      "9\n"
     ]
    },
    {
     "data": {
      "image/png": "[encoded data removed]",
      "text/plain": [
       "<Figure size 432x288 with 1 Axes>"
      ]
     },
     "metadata": {
      "needs_background": "light"
     },
     "output_type": "display_data"
    },
    {
     "name": "stdout",
     "output_type": "stream",
     "text": [
      "\n",
      "List of possible accuracy 1:\n",
      "Maximum Accuracy That can be obtained from this model is: 91.34615384615384 %\n",
      "Minimum Accuracy: 85.57692307692307 %\n",
      "Overall Accuracy: 88.16467513069455 %\n",
      "Standard Deviation is: 0.021626938926582007\n",
      "\n",
      "List of possible accuracy 2:\n",
      "Maximum Accuracy That can be obtained from this model is: 90.38461538461539 %\n",
      "Minimum Accuracy: 84.61538461538461 %\n",
      "Overall Accuracy: 88.06665421956684 %\n",
      "Standard Deviation is: 0.019260456717256624\n",
      "\n",
      "List of possible accuracy 3:\n",
      "Maximum Accuracy That can be obtained from this model is: 91.34615384615384 %\n",
      "Minimum Accuracy: 83.65384615384616 %\n",
      "Overall Accuracy: 88.06758775205378 %\n",
      "Standard Deviation is: 0.02219246691719774\n",
      "\n",
      "List of possible accuracy 4:\n",
      "Maximum Accuracy That can be obtained from this model is: 91.34615384615384 %\n",
      "Minimum Accuracy: 85.57692307692307 %\n",
      "Overall Accuracy: 88.83775205377147 %\n",
      "Standard Deviation is: 0.01754130755514988\n"
     ]
    }
   ],
   "source": [
    "# Rescaling Data for Machine Learning in Python with Scikit-Learn:\n",
    "# https://machinelearningmastery.com/rescaling-data-for-machine-learning-in-python-with-scikit-learn/\n",
    "\n",
    "##################\n",
    "# Gradient Boost #\n",
    "##################\n",
    "\n",
    "# Best performance: n_estimators_gb = 150, drop 'Total words', normalized, One-Class SVM outlier removal.\n",
    "\n",
    "# Load train.csv\n",
    "csv = pd.read_csv('train.csv')\n",
    "\n",
    "# 'Number of words lead', 'Year', 'Gross', 'Number of words lead', 'Mean Age Male', 'Mean Age Female'\n",
    "X_csv = csv.drop(columns=['Lead', 'Total words'])\n",
    "y_csv = csv['Lead']\n",
    "\n",
    "n_fold = 10\n",
    "n_estimators_gb = 150\n",
    "\n",
    "accuracy = np.zeros((n_fold, 4))\n",
    "\n",
    "# Create StratifiedKFold object.\n",
    "skf = StratifiedKFold(n_splits=n_fold, shuffle=True, random_state=1)\n",
    "lst_accu_stratified_1 = []\n",
    "lst_accu_stratified_2 = []\n",
    "lst_accu_stratified_3 = []\n",
    "lst_accu_stratified_4 = []\n",
    "\n",
    "for i, (train_index, val_index) in enumerate(skf.split(X_csv, y_csv)):\n",
    "    \n",
    "    print(i)\n",
    "    \n",
    "    X_train, X_val = X_csv.iloc[train_index], X_csv.iloc[val_index]\n",
    "    y_train, y_val = y_csv.iloc[train_index], y_csv.iloc[val_index]\n",
    "    \n",
    "#     print(X_train.shape, y_train.shape)\n",
    "#     print(X_val.shape, y_val.shape)\n",
    "    \n",
    "    # 1. Data Normalization\n",
    "    X_train_normalized = preprocessing.normalize(X_train)\n",
    "    # 2. Data Standardization\n",
    "    X_train_standardized = preprocessing.scale(X_train)\n",
    "\n",
    "    X_train_active = X_train_normalized\n",
    "    \n",
    "    X_val_normalized = preprocessing.normalize(X_val)\n",
    "    X_val_standardized = preprocessing.scale(X_val)\n",
    "    \n",
    "    X_val_active = X_val_normalized\n",
    "    \n",
    "    # 1. Isolation Forest\n",
    "    iso = IsolationForest(contamination=0.02)\n",
    "    yhat = iso.fit_predict(X_train_active)\n",
    "    mask = yhat != -1\n",
    "    X_train_ol_1, y_train_ol_1 = X_train_active[mask, :], y_train[mask]\n",
    "    #print(X_train_ol_1.shape, y_train_ol_1.shape)\n",
    "\n",
    "    model_gb_1 = GradientBoostingClassifier(n_estimators=n_estimators_gb)\n",
    "    model_gb_1.fit(X=X_train_ol_1, y=y_train_ol_1)\n",
    "    y_predict_1 = model_gb_1.predict(X_val_active)\n",
    "    \n",
    "    accuracy[i, 0] = np.mean(y_predict_1 == y_val)\n",
    "    lst_accu_stratified_1.append(model_gb_1.score(X_val_active, y_val))\n",
    "\n",
    "    # 2. Minimum Covariance Determinant\n",
    "    ee = EllipticEnvelope(contamination=0.02)\n",
    "    yhat = ee.fit_predict(X_train_active)\n",
    "    mask = yhat != -1\n",
    "    X_train_ol_2, y_train_ol_2 = X_train_active[mask, :], y_train[mask]\n",
    "    #print(X_train_ol_2.shape, y_train_ol_2.shape)\n",
    "\n",
    "    model_gb_2 = GradientBoostingClassifier(n_estimators=n_estimators_gb)\n",
    "    model_gb_2.fit(X=X_train_ol_2, y=y_train_ol_2)\n",
    "    y_predict_2 = model_gb_2.predict(X_val_active)\n",
    "    \n",
    "    accuracy[i, 1] = np.mean(y_predict_2 == y_val)\n",
    "    lst_accu_stratified_2.append(model_gb_2.score(X_val_active, y_val))\n",
    "\n",
    "    # 3. Local Outlier Factor\n",
    "    lof = LocalOutlierFactor(contamination=0.02)\n",
    "    yhat = lof.fit_predict(X_train_active)\n",
    "    mask = yhat != -1\n",
    "    X_train_ol_3, y_train_ol_3 = X_train_active[mask, :], y_train[mask]\n",
    "    #print(X_train_ol_3.shape, y_train_ol_3.shape)\n",
    "\n",
    "    model_gb_3 = GradientBoostingClassifier(n_estimators=n_estimators_gb)\n",
    "    model_gb_3.fit(X=X_train_ol_3, y=y_train_ol_3)\n",
    "    y_predict_3 = model_gb_3.predict(X_val_active)\n",
    "    \n",
    "    accuracy[i, 2] = np.mean(y_predict_3 == y_val)\n",
    "    lst_accu_stratified_3.append(model_gb_3.score(X_val_active, y_val))\n",
    "    \n",
    "    # 4. One-Class SVM\n",
    "    ee = OneClassSVM(nu=0.02)\n",
    "    yhat = ee.fit_predict(X_train_active)\n",
    "    mask = yhat != -1\n",
    "    X_train_ol_4, y_train_ol_4 = X_train_active[mask, :], y_train[mask]\n",
    "    #print(X_train_ol_4.shape, y_train_ol_4.shape)\n",
    "    \n",
    "    model_gb_4 = GradientBoostingClassifier(n_estimators=n_estimators_gb)\n",
    "    model_gb_4.fit(X=X_train_ol_4, y=y_train_ol_4)\n",
    "    y_predict_4 = model_gb_4.predict(X_val_active)\n",
    "    \n",
    "    accuracy[i, 3] = np.mean(y_predict_4 == y_val)\n",
    "    lst_accu_stratified_4.append(model_gb_4.score(X_val_active, y_val))\n",
    "    \n",
    "\n",
    "    \n",
    "plt.boxplot(accuracy)\n",
    "plt.title('Corss validation accuracy for gradient boost')\n",
    "plt.xticks(np.arange(4) + 1, ('1', '2', '3', '4'))\n",
    "plt.ylabel('accuracy')\n",
    "plt.show()\n",
    "    \n",
    "# Print the output.\n",
    "print('\\nList of possible accuracy 1:')\n",
    "print('Maximum Accuracy That can be obtained from this model is:',\n",
    "      max(lst_accu_stratified_1)*100, '%')\n",
    "print('Minimum Accuracy:',\n",
    "      min(lst_accu_stratified_1)*100, '%')\n",
    "print('Overall Accuracy:',\n",
    "      mean(lst_accu_stratified_1)*100, '%')\n",
    "print('Standard Deviation is:', stdev(lst_accu_stratified_1))\n",
    "\n",
    "print('\\nList of possible accuracy 2:')\n",
    "print('Maximum Accuracy That can be obtained from this model is:',\n",
    "      max(lst_accu_stratified_2)*100, '%')\n",
    "print('Minimum Accuracy:',\n",
    "      min(lst_accu_stratified_2)*100, '%')\n",
    "print('Overall Accuracy:',\n",
    "      mean(lst_accu_stratified_2)*100, '%')\n",
    "print('Standard Deviation is:', stdev(lst_accu_stratified_2))\n",
    "\n",
    "print('\\nList of possible accuracy 3:')\n",
    "print('Maximum Accuracy That can be obtained from this model is:',\n",
    "      max(lst_accu_stratified_3)*100, '%')\n",
    "print('Minimum Accuracy:',\n",
    "      min(lst_accu_stratified_3)*100, '%')\n",
    "print('Overall Accuracy:',\n",
    "      mean(lst_accu_stratified_3)*100, '%')\n",
    "print('Standard Deviation is:', stdev(lst_accu_stratified_3))\n",
    "\n",
    "print('\\nList of possible accuracy 4:')\n",
    "print('Maximum Accuracy That can be obtained from this model is:',\n",
    "      max(lst_accu_stratified_4)*100, '%')\n",
    "print('Minimum Accuracy:',\n",
    "      min(lst_accu_stratified_4)*100, '%')\n",
    "print('Overall Accuracy:',\n",
    "      mean(lst_accu_stratified_4)*100, '%')\n",
    "print('Standard Deviation is:', stdev(lst_accu_stratified_4))"
   ]
  },
  {
   "cell_type": "code",
   "execution_count": 137,
   "id": "410066b9",
   "metadata": {},
   "outputs": [
    {
     "name": "stdout",
     "output_type": "stream",
     "text": [
      "(701, 13) (701,)\n"
     ]
    },
    {
     "name": "stderr",
     "output_type": "stream",
     "text": [
      "/opt/anaconda3/lib/python3.8/site-packages/sklearn/covariance/_robust_covariance.py:647: UserWarning: The covariance matrix associated to your dataset is not full rank\n",
      "  warnings.warn(\"The covariance matrix associated to your dataset \"\n",
      "/opt/anaconda3/lib/python3.8/site-packages/sklearn/covariance/_robust_covariance.py:166: RuntimeWarning: Determinant has increased; this should not happen: log(det) > log(previous_det) (-53.633792629198311 > -53.771059490795622). You may want to try with a higher value of support_fraction (current value: 0.512).\n",
      "  warnings.warn(\"Determinant has increased; this should not happen: \"\n",
      "/opt/anaconda3/lib/python3.8/site-packages/sklearn/covariance/_robust_covariance.py:166: RuntimeWarning: Determinant has increased; this should not happen: log(det) > log(previous_det) (-52.229420335911662 > -54.153553559390801). You may want to try with a higher value of support_fraction (current value: 0.512).\n",
      "  warnings.warn(\"Determinant has increased; this should not happen: \"\n",
      "/opt/anaconda3/lib/python3.8/site-packages/sklearn/covariance/_robust_covariance.py:166: RuntimeWarning: Determinant has increased; this should not happen: log(det) > log(previous_det) (-51.683592829616131 > -51.806721583157071). You may want to try with a higher value of support_fraction (current value: 0.512).\n",
      "  warnings.warn(\"Determinant has increased; this should not happen: \"\n",
      "/opt/anaconda3/lib/python3.8/site-packages/sklearn/covariance/_robust_covariance.py:166: RuntimeWarning: Determinant has increased; this should not happen: log(det) > log(previous_det) (-52.624867423078385 > -53.807844591134909). You may want to try with a higher value of support_fraction (current value: 0.512).\n",
      "  warnings.warn(\"Determinant has increased; this should not happen: \"\n",
      "/opt/anaconda3/lib/python3.8/site-packages/sklearn/covariance/_robust_covariance.py:166: RuntimeWarning: Determinant has increased; this should not happen: log(det) > log(previous_det) (-52.221416693762471 > -52.345933095582673). You may want to try with a higher value of support_fraction (current value: 0.512).\n",
      "  warnings.warn(\"Determinant has increased; this should not happen: \"\n",
      "/opt/anaconda3/lib/python3.8/site-packages/sklearn/covariance/_robust_covariance.py:166: RuntimeWarning: Determinant has increased; this should not happen: log(det) > log(previous_det) (-52.241897253468380 > -54.786565367441860). You may want to try with a higher value of support_fraction (current value: 0.512).\n",
      "  warnings.warn(\"Determinant has increased; this should not happen: \"\n",
      "/opt/anaconda3/lib/python3.8/site-packages/sklearn/covariance/_robust_covariance.py:166: RuntimeWarning: Determinant has increased; this should not happen: log(det) > log(previous_det) (-52.092445554957806 > -52.216157750970488). You may want to try with a higher value of support_fraction (current value: 0.512).\n",
      "  warnings.warn(\"Determinant has increased; this should not happen: \"\n",
      "/opt/anaconda3/lib/python3.8/site-packages/sklearn/covariance/_robust_covariance.py:166: RuntimeWarning: Determinant has increased; this should not happen: log(det) > log(previous_det) (-51.912477911432539 > -52.859731786008879). You may want to try with a higher value of support_fraction (current value: 0.512).\n",
      "  warnings.warn(\"Determinant has increased; this should not happen: \"\n",
      "/opt/anaconda3/lib/python3.8/site-packages/sklearn/covariance/_robust_covariance.py:166: RuntimeWarning: Determinant has increased; this should not happen: log(det) > log(previous_det) (-52.205689036978114 > -52.542530066280953). You may want to try with a higher value of support_fraction (current value: 0.512).\n",
      "  warnings.warn(\"Determinant has increased; this should not happen: \"\n",
      "/opt/anaconda3/lib/python3.8/site-packages/sklearn/covariance/_robust_covariance.py:166: RuntimeWarning: Determinant has increased; this should not happen: log(det) > log(previous_det) (-52.721598251469437 > -52.899398993538355). You may want to try with a higher value of support_fraction (current value: 0.512).\n",
      "  warnings.warn(\"Determinant has increased; this should not happen: \"\n"
     ]
    },
    {
     "name": "stdout",
     "output_type": "stream",
     "text": [
      "(771, 13) (771,)\n",
      "(760, 13) (760,)\n",
      "(724, 13) (724,)\n"
     ]
    },
    {
     "name": "stderr",
     "output_type": "stream",
     "text": [
      "/opt/anaconda3/lib/python3.8/site-packages/sklearn/covariance/_robust_covariance.py:166: RuntimeWarning: Determinant has increased; this should not happen: log(det) > log(previous_det) (-52.826517705521113 > -53.932951103690677). You may want to try with a higher value of support_fraction (current value: 0.510).\n",
      "  warnings.warn(\"Determinant has increased; this should not happen: \"\n",
      "/opt/anaconda3/lib/python3.8/site-packages/sklearn/covariance/_robust_covariance.py:166: RuntimeWarning: Determinant has increased; this should not happen: log(det) > log(previous_det) (-52.327031729167075 > -52.465293333912875). You may want to try with a higher value of support_fraction (current value: 0.510).\n",
      "  warnings.warn(\"Determinant has increased; this should not happen: \"\n",
      "/opt/anaconda3/lib/python3.8/site-packages/sklearn/covariance/_robust_covariance.py:166: RuntimeWarning: Determinant has increased; this should not happen: log(det) > log(previous_det) (-53.135436229128857 > -53.280713539893114). You may want to try with a higher value of support_fraction (current value: 0.510).\n",
      "  warnings.warn(\"Determinant has increased; this should not happen: \"\n",
      "/opt/anaconda3/lib/python3.8/site-packages/sklearn/covariance/_robust_covariance.py:166: RuntimeWarning: Determinant has increased; this should not happen: log(det) > log(previous_det) (-53.347750905174117 > -53.579073132480900). You may want to try with a higher value of support_fraction (current value: 0.510).\n",
      "  warnings.warn(\"Determinant has increased; this should not happen: \"\n"
     ]
    }
   ],
   "source": [
    "# Outliers removal process\n",
    "# (1. Isolation Forest or 2. Minimum Covariance Determinant or 3. Local Outlier Factor 4. One-Class SVM)\n",
    "\n",
    "# 1. Isolation Forest\n",
    "iso = IsolationForest(contamination=0.1)\n",
    "yhat = iso.fit_predict(X_train_active)\n",
    "mask = yhat != -1\n",
    "X_train_ol_1, y_train_ol_1 = X_train_active[mask, :], y_train[mask]\n",
    "print(X_train_ol_1.shape, y_train_ol_1.shape)\n",
    "\n",
    "\n",
    "# 2. Minimum Covariance Determinant\n",
    "ee = EllipticEnvelope(contamination=0.01)\n",
    "yhat = ee.fit_predict(X_train_active)\n",
    "mask = yhat != -1\n",
    "X_train_ol_2, y_train_ol_2 = X_train_active[mask, :], y_train[mask]\n",
    "print(X_train_ol_2.shape, y_train_ol_2.shape)\n",
    "\n",
    "\n",
    "# 3. Local Outlier Factor\n",
    "lof = LocalOutlierFactor()\n",
    "yhat = lof.fit_predict(X_train_active)\n",
    "mask = yhat != -1\n",
    "X_train_ol_3, y_train_ol_3 = X_train_active[mask, :], y_train[mask]\n",
    "print(X_train_ol_3.shape, y_train_ol_3.shape)\n",
    "\n",
    "# 4. One-Class SVM\n",
    "ee = OneClassSVM(nu=0.01)\n",
    "yhat = ee.fit_predict(X_train_active)\n",
    "mask = yhat != -1\n",
    "X_train_ol_4, y_train_ol_4 = X_train_active[mask, :], y_train[mask]\n",
    "print(X_train_ol_4.shape, y_train_ol_4.shape)"
   ]
  },
  {
   "cell_type": "code",
   "execution_count": 139,
   "id": "4d78a0f6",
   "metadata": {},
   "outputs": [
    {
     "name": "stdout",
     "output_type": "stream",
     "text": [
      "Accuracy rate of gradient is 0.83\n",
      "              precision    recall  f1-score   support\n",
      "\n",
      "      Female       0.68      0.71      0.69        68\n",
      "        Male       0.89      0.88      0.89       192\n",
      "\n",
      "    accuracy                           0.83       260\n",
      "   macro avg       0.79      0.79      0.79       260\n",
      "weighted avg       0.84      0.83      0.84       260\n",
      "\n"
     ]
    },
    {
     "data": {
      "text/plain": [
       "<AxesSubplot:>"
      ]
     },
     "execution_count": 139,
     "metadata": {},
     "output_type": "execute_result"
    },
    {
     "data": {
      "image/png": "[encoded data removed]",
      "text/plain": [
       "<Figure size 432x288 with 1 Axes>"
      ]
     },
     "metadata": {
      "needs_background": "light"
     },
     "output_type": "display_data"
    }
   ],
   "source": [
    "# feature removal\n",
    "\n",
    "X_test_normalized = preprocessing.normalize(X_test)\n",
    "X_test_standardized = preprocessing.scale(X_test)\n",
    "\n",
    "model_gb = GradientBoostingClassifier()\n",
    "model_gb.fit(X=X_train_ol_3, y=y_train_ol_3)\n",
    "y_predict = model_gb.predict(X_test_standardized)\n",
    "print('Accuracy rate of gradient is %.2f' % np.mean(y_predict == y_test))\n",
    "print(classification_report(y_test,y_predict))\n",
    "\n",
    "feat_importance_dt = pd.Series(model_gb.feature_importances_, index= X_train.columns)\n",
    "feat_importance_dt.nlargest(13).plot(kind='barh')"
   ]
  },
  {
   "cell_type": "code",
   "execution_count": null,
   "id": "42187c83",
   "metadata": {},
   "outputs": [],
   "source": [
    "model_gb = GradientBoostingClassifier()\n",
    "model_gb.fit(X=X_train, y=y_train)\n",
    "y_predict = model_gb.predict(X_test)\n",
    "print('Accuracy rate of gradient is %.2f' % np.mean(y_predict == y_test))\n",
    "print(classification_report(y_test,y_predict))"
   ]
  },
  {
   "cell_type": "code",
   "execution_count": 4,
   "id": "60f48c16",
   "metadata": {},
   "outputs": [
    {
     "name": "stdout",
     "output_type": "stream",
     "text": [
      "Accuracy rate of classification tree is 0.81\n",
      "              precision    recall  f1-score   support\n",
      "\n",
      "      Female       0.65      0.60      0.63        68\n",
      "        Male       0.86      0.89      0.87       192\n",
      "\n",
      "    accuracy                           0.81       260\n",
      "   macro avg       0.76      0.74      0.75       260\n",
      "weighted avg       0.81      0.81      0.81       260\n",
      "\n"
     ]
    }
   ],
   "source": [
    "# Learn a classification tree\n",
    "X_train = train.drop(columns=['Lead'])\n",
    "y_train = train['Lead']\n",
    "model_dt = tree.DecisionTreeClassifier(max_depth=11)\n",
    "model_dt.fit(X=X_train, y=y_train)\n",
    "\n",
    "# Predict the response on the test data\n",
    "X_test = test.drop(columns=['Lead'])\n",
    "y_test = test['Lead']\n",
    "y_predict = model_dt.predict(X_test)\n",
    "print('Accuracy rate of classification tree is %.2f' % np.mean(y_predict == y_test))\n",
    "print(classification_report(y_test,y_predict))"
   ]
  },
  {
   "cell_type": "code",
   "execution_count": 5,
   "id": "7dfe9491",
   "metadata": {},
   "outputs": [
    {
     "name": "stdout",
     "output_type": "stream",
     "text": [
      "Accuracy rate of bagging is 0.80\n",
      "              precision    recall  f1-score   support\n",
      "\n",
      "      Female       0.67      0.50      0.57        68\n",
      "        Male       0.84      0.91      0.87       192\n",
      "\n",
      "    accuracy                           0.80       260\n",
      "   macro avg       0.75      0.71      0.72       260\n",
      "weighted avg       0.79      0.80      0.79       260\n",
      "\n"
     ]
    }
   ],
   "source": [
    "# 2 - Bagging\n",
    "model_bag = BaggingClassifier()\n",
    "model_bag.fit(X=X_train, y=y_train)\n",
    "y_predict = model_bag.predict(X_test)\n",
    "print('Accuracy rate of bagging is %.2f' % np.mean(y_predict == y_test))\n",
    "print(classification_report(y_test,y_predict))"
   ]
  },
  {
   "cell_type": "code",
   "execution_count": 6,
   "id": "ef89cda6",
   "metadata": {},
   "outputs": [
    {
     "name": "stdout",
     "output_type": "stream",
     "text": [
      "Accuracy rate of random forest is 0.83\n",
      "              precision    recall  f1-score   support\n",
      "\n",
      "      Female       0.83      0.44      0.58        68\n",
      "        Male       0.83      0.97      0.89       192\n",
      "\n",
      "    accuracy                           0.83       260\n",
      "   macro avg       0.83      0.70      0.74       260\n",
      "weighted avg       0.83      0.83      0.81       260\n",
      "\n"
     ]
    }
   ],
   "source": [
    "# 3 - Random forest\n",
    "model_rf = RandomForestClassifier(n_estimators=100)\n",
    "model_rf.fit(X=X_train, y=y_train)\n",
    "y_predict = model_rf.predict(X_test)\n",
    "print('Accuracy rate of random forest is %.2f' % np.mean(y_predict == y_test))\n",
    "print(classification_report(y_test,y_predict))"
   ]
  },
  {
   "cell_type": "code",
   "execution_count": 7,
   "id": "17f47ee5",
   "metadata": {},
   "outputs": [
    {
     "name": "stdout",
     "output_type": "stream",
     "text": [
      "Accuracy rate of adaboost is 0.87\n",
      "              precision    recall  f1-score   support\n",
      "\n",
      "      Female       0.84      0.60      0.70        68\n",
      "        Male       0.87      0.96      0.91       192\n",
      "\n",
      "    accuracy                           0.87       260\n",
      "   macro avg       0.85      0.78      0.81       260\n",
      "weighted avg       0.86      0.87      0.86       260\n",
      "\n"
     ]
    }
   ],
   "source": [
    "# 4 - AdaBoost\n",
    "model_ab = AdaBoostClassifier(n_estimators=50)\n",
    "model_ab.fit(X=X_train, y=y_train)\n",
    "y_predict = model_ab.predict(X_test)\n",
    "print('Accuracy rate of adaboost is %.2f' % np.mean(y_predict == y_test))\n",
    "print(classification_report(y_test,y_predict))"
   ]
  },
  {
   "cell_type": "code",
   "execution_count": 8,
   "id": "cc84ff20",
   "metadata": {},
   "outputs": [
    {
     "name": "stdout",
     "output_type": "stream",
     "text": [
      "Accuracy rate of gradient is 0.85\n",
      "              precision    recall  f1-score   support\n",
      "\n",
      "      Female       0.82      0.54      0.65        68\n",
      "        Male       0.86      0.96      0.90       192\n",
      "\n",
      "    accuracy                           0.85       260\n",
      "   macro avg       0.84      0.75      0.78       260\n",
      "weighted avg       0.85      0.85      0.84       260\n",
      "\n"
     ]
    }
   ],
   "source": [
    "# 5 - Gradient boosting\n",
    "model_gb = GradientBoostingClassifier()\n",
    "model_gb.fit(X=X_train, y=y_train)\n",
    "y_predict = model_gb.predict(X_test)\n",
    "print('Accuracy rate of gradient is %.2f' % np.mean(y_predict == y_test))\n",
    "print(classification_report(y_test,y_predict))"
   ]
  },
  {
   "cell_type": "code",
   "execution_count": 9,
   "id": "65ed9789",
   "metadata": {},
   "outputs": [
    {
     "name": "stderr",
     "output_type": "stream",
     "text": [
      "/opt/anaconda3/lib/python3.8/site-packages/numpy/core/_asarray.py:102: VisibleDeprecationWarning: Creating an ndarray from ragged nested sequences (which is a list-or-tuple of lists-or-tuples-or ndarrays with different lengths or shapes) is deprecated. If you meant to do this, you must specify 'dtype=object' when creating the ndarray.\n",
      "  return array(a, dtype, copy=False, order=order)\n",
      "/opt/anaconda3/lib/python3.8/site-packages/numpy/core/_asarray.py:102: VisibleDeprecationWarning: Creating an ndarray from ragged nested sequences (which is a list-or-tuple of lists-or-tuples-or ndarrays with different lengths or shapes) is deprecated. If you meant to do this, you must specify 'dtype=object' when creating the ndarray.\n",
      "  return array(a, dtype, copy=False, order=order)\n",
      "/opt/anaconda3/lib/python3.8/site-packages/numpy/core/_asarray.py:102: VisibleDeprecationWarning: Creating an ndarray from ragged nested sequences (which is a list-or-tuple of lists-or-tuples-or ndarrays with different lengths or shapes) is deprecated. If you meant to do this, you must specify 'dtype=object' when creating the ndarray.\n",
      "  return array(a, dtype, copy=False, order=order)\n",
      "/opt/anaconda3/lib/python3.8/site-packages/numpy/core/_asarray.py:102: VisibleDeprecationWarning: Creating an ndarray from ragged nested sequences (which is a list-or-tuple of lists-or-tuples-or ndarrays with different lengths or shapes) is deprecated. If you meant to do this, you must specify 'dtype=object' when creating the ndarray.\n",
      "  return array(a, dtype, copy=False, order=order)\n",
      "/opt/anaconda3/lib/python3.8/site-packages/numpy/core/_asarray.py:102: VisibleDeprecationWarning: Creating an ndarray from ragged nested sequences (which is a list-or-tuple of lists-or-tuples-or ndarrays with different lengths or shapes) is deprecated. If you meant to do this, you must specify 'dtype=object' when creating the ndarray.\n",
      "  return array(a, dtype, copy=False, order=order)\n"
     ]
    },
    {
     "data": {
      "image/png": "[encoded data removed]",
      "text/plain": [
       "<Figure size 432x288 with 1 Axes>"
      ]
     },
     "metadata": {
      "needs_background": "light"
     },
     "output_type": "display_data"
    }
   ],
   "source": [
    "# 6 - Start to use cross validation to get the range of accuracy rate for each method\n",
    "n_fold = 10\n",
    "\n",
    "models = []\n",
    "models.append(model_dt)\n",
    "models.append(model_bag)\n",
    "models.append(model_rf)\n",
    "models.append(model_ab)\n",
    "models.append(model_gb)\n",
    "\n",
    "accuracy = np.zeros((n_fold, len(models)))\n",
    "cv = skl_ms.KFold(n_splits=n_fold, random_state=1, shuffle=True)\n",
    "\n",
    "X = train_csv.drop(columns=['Lead'])\n",
    "y = train_csv['Lead']\n",
    "\n",
    "for i, (train_index, val_index) in enumerate(cv.split(X)):\n",
    "    X_train, X_val = X.iloc[train_index], X.iloc[val_index]\n",
    "    y_train, y_val = y.iloc[train_index], y.iloc[val_index]\n",
    "    \n",
    "    for m in range(np.shape(models)[0]):\n",
    "        model = models[m]\n",
    "        model.fit(X_train, y_train)\n",
    "        prediction = model.predict(X_val)\n",
    "        accuracy[i, m] = np.mean(prediction == y_val)\n",
    "        \n",
    "plt.boxplot(accuracy)\n",
    "plt.title('Corss validation accuracy for tree methods')\n",
    "plt.xticks(np.arange(5) + 1, ('decision tree', 'bagging', 'random forest', 'adaboost', 'gradient boost'))\n",
    "plt.ylabel('accuracy')\n",
    "plt.show()"
   ]
  },
  {
   "cell_type": "code",
   "execution_count": 10,
   "id": "3fc73628",
   "metadata": {},
   "outputs": [
    {
     "data": {
      "text/plain": [
       "<AxesSubplot:>"
      ]
     },
     "execution_count": 10,
     "metadata": {},
     "output_type": "execute_result"
    },
    {
     "data": {
      "image/png": "[encoded data removed]",
      "text/plain": [
       "<Figure size 432x288 with 1 Axes>"
      ]
     },
     "metadata": {
      "needs_background": "light"
     },
     "output_type": "display_data"
    }
   ],
   "source": [
    "# 7 - Feature selection, first examine the feature importance for each method.\n",
    "#\n",
    "# Feature Selection Techniques:\n",
    "# https://towardsdatascience.com/feature-selection-techniques-1bfab5fe0784\n",
    "\n",
    "# 4 Automatic Outlier Detection Algorithms in Python:\n",
    "# https://machinelearningmastery.com/model-based-outlier-detection-and-removal-in-python/\n",
    "\n",
    "# feature importance for decision tree\n",
    "feat_importance_dt = pd.Series(model_dt.feature_importances_, index= X.columns)\n",
    "feat_importance_dt.nlargest(13).plot(kind='barh')"
   ]
  },
  {
   "cell_type": "code",
   "execution_count": 11,
   "id": "fd864db5",
   "metadata": {},
   "outputs": [
    {
     "data": {
      "text/plain": [
       "<AxesSubplot:>"
      ]
     },
     "execution_count": 11,
     "metadata": {},
     "output_type": "execute_result"
    },
    {
     "data": {
      "image/png": "[encoded data removed]",
      "text/plain": [
       "<Figure size 432x288 with 1 Axes>"
      ]
     },
     "metadata": {
      "needs_background": "light"
     },
     "output_type": "display_data"
    }
   ],
   "source": [
    "# feature importance for random forest\n",
    "feat_importance_rf = pd.Series(model_rf.feature_importances_, index= X.columns)\n",
    "feat_importance_rf.nlargest(13).plot(kind='barh')"
   ]
  },
  {
   "cell_type": "code",
   "execution_count": 12,
   "id": "f38650b9",
   "metadata": {},
   "outputs": [
    {
     "data": {
      "text/plain": [
       "<AxesSubplot:>"
      ]
     },
     "execution_count": 12,
     "metadata": {},
     "output_type": "execute_result"
    },
    {
     "data": {
      "image/png": "[encoded data removed]",
      "text/plain": [
       "<Figure size 432x288 with 1 Axes>"
      ]
     },
     "metadata": {
      "needs_background": "light"
     },
     "output_type": "display_data"
    }
   ],
   "source": [
    "# feature importance for adaboost\n",
    "feat_importance_ab = pd.Series(model_ab.feature_importances_, index= X.columns)\n",
    "feat_importance_ab.nlargest(13).plot(kind='barh')"
   ]
  },
  {
   "cell_type": "code",
   "execution_count": 13,
   "id": "dac91046",
   "metadata": {},
   "outputs": [
    {
     "data": {
      "text/plain": [
       "<AxesSubplot:>"
      ]
     },
     "execution_count": 13,
     "metadata": {},
     "output_type": "execute_result"
    },
    {
     "data": {
      "image/png": "[encoded data removed]",
      "text/plain": [
       "<Figure size 432x288 with 1 Axes>"
      ]
     },
     "metadata": {
      "needs_background": "light"
     },
     "output_type": "display_data"
    }
   ],
   "source": [
    "# feature importance for gradient boost\n",
    "feat_importance_gb = pd.Series(model_gb.feature_importances_, index= X.columns)\n",
    "feat_importance_gb.nlargest(13).plot(kind='barh')"
   ]
  },
  {
   "cell_type": "code",
   "execution_count": 15,
   "id": "72988e62",
   "metadata": {},
   "outputs": [
    {
     "data": {
      "image/png": "[encoded data removed]",
      "text/plain": [
       "<Figure size 720x720 with 2 Axes>"
      ]
     },
     "metadata": {
      "needs_background": "light"
     },
     "output_type": "display_data"
    }
   ],
   "source": [
    "# Now, we examine the correlation between features\n",
    "\n",
    "Numeric_df = pd.DataFrame(X_train)\n",
    "\n",
    "corr= Numeric_df.corr()\n",
    "\n",
    "fig, ax = plt.subplots(figsize=(10,10))\n",
    "sns.heatmap(corr, vmax=1.0, center=0, fmt='.2f',\n",
    "                square=True, linewidths=.5, annot=True, cbar_kws={\"shrink\": .70})\n",
    "plt.show()\n"
   ]
  },
  {
   "cell_type": "code",
   "execution_count": 16,
   "id": "9c6fae99",
   "metadata": {},
   "outputs": [
    {
     "name": "stderr",
     "output_type": "stream",
     "text": [
      "/opt/anaconda3/lib/python3.8/site-packages/numpy/core/_asarray.py:102: VisibleDeprecationWarning: Creating an ndarray from ragged nested sequences (which is a list-or-tuple of lists-or-tuples-or ndarrays with different lengths or shapes) is deprecated. If you meant to do this, you must specify 'dtype=object' when creating the ndarray.\n",
      "  return array(a, dtype, copy=False, order=order)\n",
      "/opt/anaconda3/lib/python3.8/site-packages/numpy/core/_asarray.py:102: VisibleDeprecationWarning: Creating an ndarray from ragged nested sequences (which is a list-or-tuple of lists-or-tuples-or ndarrays with different lengths or shapes) is deprecated. If you meant to do this, you must specify 'dtype=object' when creating the ndarray.\n",
      "  return array(a, dtype, copy=False, order=order)\n",
      "/opt/anaconda3/lib/python3.8/site-packages/numpy/core/_asarray.py:102: VisibleDeprecationWarning: Creating an ndarray from ragged nested sequences (which is a list-or-tuple of lists-or-tuples-or ndarrays with different lengths or shapes) is deprecated. If you meant to do this, you must specify 'dtype=object' when creating the ndarray.\n",
      "  return array(a, dtype, copy=False, order=order)\n",
      "/opt/anaconda3/lib/python3.8/site-packages/numpy/core/_asarray.py:102: VisibleDeprecationWarning: Creating an ndarray from ragged nested sequences (which is a list-or-tuple of lists-or-tuples-or ndarrays with different lengths or shapes) is deprecated. If you meant to do this, you must specify 'dtype=object' when creating the ndarray.\n",
      "  return array(a, dtype, copy=False, order=order)\n",
      "/opt/anaconda3/lib/python3.8/site-packages/numpy/core/_asarray.py:102: VisibleDeprecationWarning: Creating an ndarray from ragged nested sequences (which is a list-or-tuple of lists-or-tuples-or ndarrays with different lengths or shapes) is deprecated. If you meant to do this, you must specify 'dtype=object' when creating the ndarray.\n",
      "  return array(a, dtype, copy=False, order=order)\n"
     ]
    },
    {
     "data": {
      "image/png": "[encoded data removed]",
      "text/plain": [
       "<Figure size 432x288 with 1 Axes>"
      ]
     },
     "metadata": {
      "needs_background": "light"
     },
     "output_type": "display_data"
    }
   ],
   "source": [
    "# Based on above analysis, we choose to exclude: \n",
    "# \"Year\", \"Gross\", \"Total words\", \"Number of words lead\", \"Mean Age Male\"\n",
    "\n",
    "#X_train_feature_dropped = train.drop(columns=['Year', 'Gross', 'Total words', 'Number of words lead', 'Mean Age Male'])\n",
    "\n",
    "X = train_csv.drop(columns=['Lead', 'Year', 'Gross', 'Total words'])\n",
    "y = train_csv['Lead']\n",
    "\n",
    "for i, (train_index, val_index) in enumerate(cv.split(X)):\n",
    "    X_train, X_val = X.iloc[train_index], X.iloc[val_index]\n",
    "    y_train, y_val = y.iloc[train_index], y.iloc[val_index]\n",
    "    \n",
    "    for m in range(np.shape(models)[0]):\n",
    "        model = models[m]\n",
    "        model.fit(X_train, y_train)\n",
    "        prediction = model.predict(X_val)\n",
    "        accuracy[i, m] = np.mean(prediction == y_val)\n",
    "        \n",
    "plt.boxplot(accuracy)\n",
    "plt.title('Corss validation accuracy for tree methods after dropped features')\n",
    "plt.xticks(np.arange(5) + 1, ('decision tree', 'bagging', 'random forest', 'adaboost', 'gradient boost'))\n",
    "plt.ylabel('accuracy')\n",
    "plt.show()"
   ]
  },
  {
   "cell_type": "code",
   "execution_count": 17,
   "id": "ccdc8327",
   "metadata": {},
   "outputs": [
    {
     "name": "stdout",
     "output_type": "stream",
     "text": [
      "Accuracy rate of classification tree is 0.78\n",
      "              precision    recall  f1-score   support\n",
      "\n",
      "      Female       0.53      0.55      0.54        60\n",
      "        Male       0.86      0.85      0.86       200\n",
      "\n",
      "    accuracy                           0.78       260\n",
      "   macro avg       0.70      0.70      0.70       260\n",
      "weighted avg       0.79      0.78      0.79       260\n",
      "\n"
     ]
    }
   ],
   "source": [
    "trainIndex = np.random.choice(train_csv.shape[0], size=int(len(train_csv)*.75), replace=False)\n",
    "train = train_csv.iloc[trainIndex]\n",
    "test = train_csv.iloc[~train_csv.index.isin(trainIndex)]\n",
    "\n",
    "X_train = train.drop(columns=['Lead', 'Year', 'Gross', 'Total words'])\n",
    "y_train = train['Lead']\n",
    "\n",
    "X_test = test.drop(columns=['Lead', 'Year', 'Gross', 'Total words'])\n",
    "y_test = test['Lead']\n",
    "\n",
    "model_dt = tree.DecisionTreeClassifier(max_depth=11)\n",
    "model_dt.fit(X=X_train, y=y_train)\n",
    "y_predict = model_dt.predict(X_test)\n",
    "print('Accuracy rate of classification tree is %.2f' % np.mean(y_predict == y_test))\n",
    "print(classification_report(y_test,y_predict))"
   ]
  },
  {
   "cell_type": "code",
   "execution_count": 18,
   "id": "51fb335d",
   "metadata": {},
   "outputs": [
    {
     "name": "stdout",
     "output_type": "stream",
     "text": [
      "Accuracy rate of bagging is 0.82\n",
      "              precision    recall  f1-score   support\n",
      "\n",
      "      Female       0.62      0.50      0.56        60\n",
      "        Male       0.86      0.91      0.88       200\n",
      "\n",
      "    accuracy                           0.82       260\n",
      "   macro avg       0.74      0.71      0.72       260\n",
      "weighted avg       0.80      0.82      0.81       260\n",
      "\n"
     ]
    }
   ],
   "source": [
    "model_bag = BaggingClassifier()\n",
    "model_bag.fit(X=X_train, y=y_train)\n",
    "y_predict = model_bag.predict(X_test)\n",
    "print('Accuracy rate of bagging is %.2f' % np.mean(y_predict == y_test))\n",
    "print(classification_report(y_test,y_predict))"
   ]
  },
  {
   "cell_type": "code",
   "execution_count": 19,
   "id": "e397c071",
   "metadata": {},
   "outputs": [
    {
     "name": "stdout",
     "output_type": "stream",
     "text": [
      "Accuracy rate of random forest is 0.83\n",
      "              precision    recall  f1-score   support\n",
      "\n",
      "      Female       0.73      0.40      0.52        60\n",
      "        Male       0.84      0.95      0.89       200\n",
      "\n",
      "    accuracy                           0.83       260\n",
      "   macro avg       0.78      0.68      0.71       260\n",
      "weighted avg       0.82      0.83      0.81       260\n",
      "\n"
     ]
    }
   ],
   "source": [
    "model_rf = RandomForestClassifier(n_estimators=100)\n",
    "model_rf.fit(X=X_train, y=y_train)\n",
    "y_predict = model_rf.predict(X_test)\n",
    "print('Accuracy rate of random forest is %.2f' % np.mean(y_predict == y_test))\n",
    "print(classification_report(y_test,y_predict))"
   ]
  },
  {
   "cell_type": "code",
   "execution_count": 20,
   "id": "3e429eed",
   "metadata": {},
   "outputs": [
    {
     "name": "stdout",
     "output_type": "stream",
     "text": [
      "Accuracy rate of adaboost is 0.86\n",
      "              precision    recall  f1-score   support\n",
      "\n",
      "      Female       0.74      0.58      0.65        60\n",
      "        Male       0.88      0.94      0.91       200\n",
      "\n",
      "    accuracy                           0.86       260\n",
      "   macro avg       0.81      0.76      0.78       260\n",
      "weighted avg       0.85      0.86      0.85       260\n",
      "\n"
     ]
    }
   ],
   "source": [
    "model_ab = AdaBoostClassifier(n_estimators=50)\n",
    "model_ab.fit(X=X_train, y=y_train)\n",
    "y_predict = model_ab.predict(X_test)\n",
    "print('Accuracy rate of adaboost is %.2f' % np.mean(y_predict == y_test))\n",
    "print(classification_report(y_test,y_predict))"
   ]
  },
  {
   "cell_type": "code",
   "execution_count": 21,
   "id": "b674d2f0",
   "metadata": {},
   "outputs": [
    {
     "name": "stdout",
     "output_type": "stream",
     "text": [
      "Accuracy rate of gradient is 0.87\n",
      "              precision    recall  f1-score   support\n",
      "\n",
      "      Female       0.82      0.53      0.65        60\n",
      "        Male       0.87      0.96      0.92       200\n",
      "\n",
      "    accuracy                           0.87       260\n",
      "   macro avg       0.85      0.75      0.78       260\n",
      "weighted avg       0.86      0.87      0.85       260\n",
      "\n"
     ]
    }
   ],
   "source": [
    "model_gb = GradientBoostingClassifier()\n",
    "model_gb.fit(X=X_train, y=y_train)\n",
    "y_predict = model_gb.predict(X_test)\n",
    "print('Accuracy rate of gradient is %.2f' % np.mean(y_predict == y_test))\n",
    "print(classification_report(y_test,y_predict))"
   ]
  },
  {
   "cell_type": "code",
   "execution_count": null,
   "id": "5ebdb6a4",
   "metadata": {},
   "outputs": [],
   "source": []
  },
  {
   "cell_type": "code",
   "execution_count": null,
   "id": "d2f59d9f",
   "metadata": {},
   "outputs": [],
   "source": []
  }
 ],
 "metadata": {
  "kernelspec": {
   "display_name": "Python 3",
   "language": "python",
   "name": "python3"
  },
  "language_info": {
   "codemirror_mode": {
    "name": "ipython",
    "version": 3
   },
   "file_extension": ".py",
   "mimetype": "text/x-python",
   "name": "python",
   "nbconvert_exporter": "python",
   "pygments_lexer": "ipython3",
   "version": "3.8.8"
  }
 },
 "nbformat": 4,
 "nbformat_minor": 5
}
